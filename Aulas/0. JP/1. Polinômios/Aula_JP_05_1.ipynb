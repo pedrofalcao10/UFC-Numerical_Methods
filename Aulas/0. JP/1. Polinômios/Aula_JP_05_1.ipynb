{
 "cells": [
  {
   "cell_type": "code",
   "execution_count": 4,
   "metadata": {
    "id": "YPmm9s1EQfuR"
   },
   "outputs": [],
   "source": [
    "import numpy as np"
   ]
  },
  {
   "cell_type": "code",
   "execution_count": 5,
   "metadata": {
    "id": "8z3gQuEbRFFI"
   },
   "outputs": [],
   "source": [
    "import matplotlib.pyplot as plt\n",
    "import math"
   ]
  },
  {
   "cell_type": "code",
   "execution_count": 13,
   "metadata": {
    "id": "Qca4iVDORHoX"
   },
   "outputs": [],
   "source": [
    "def muller(x0,x1,x2,fx,epsilon):\n",
    "    erro=1000\n",
    "    while erro > epsilon:\n",
    "      \n",
    "      fx0=fx(x0)\n",
    "      fx1=fx(x1)\n",
    "      fx2=fx(x2)\n",
    "      h0=x1-x0\n",
    "      h1=x2-x1\n",
    "      d0=(fx1-fx0)/(x1-x0)\n",
    "      d1=(fx2-fx1)/(x2-x1)\n",
    "      a=(d1-d0)/(h1+h0)\n",
    "      \n",
    "      b=a*h1+d1\n",
    "      c=fx(x2)\n",
    "      print(f'a:{a},b:{b},c:{c}')\n",
    "      if b.real>=0:\n",
    "        dlt = (b**2)-4*a*c\n",
    "        if dlt.real >= 0:\n",
    "          delta = math.sqrt(dlt.real)\n",
    "        else:\n",
    "          delta = complex(0,math.sqrt(-1*dlt.real))\n",
    "      else:\n",
    "        dlt = (b**2)-4*a*c\n",
    "        if dlt.real >=0:\n",
    "          delta=-1*math.sqrt(dlt.real)\n",
    "        else:delta = complex(0,-1*math.sqrt(-1*dlt.real))\n",
    "                \n",
    "      print(f'delta={delta}')\n",
    "      x3=x2+((-2*c)/(b+delta))\n",
    "      print(f'x3={x3}')\n",
    "      erro=abs((x3-x2)/x3)\n",
    "      print(f'erro={erro}')\n",
    "      x0=x1\n",
    "      x1=x2\n",
    "      x2=x3\n",
    "            \n",
    "\n",
    "        \n",
    "    return x3\n",
    "    "
   ]
  },
  {
   "cell_type": "code",
   "execution_count": 15,
   "metadata": {
    "id": "uOQ5OIpzkFwC"
   },
   "outputs": [],
   "source": [
    "def func(x):\n",
    "    return 2*x**5-3*x**4-4*x**3+x+1"
   ]
  },
  {
   "cell_type": "code",
   "execution_count": 17,
   "metadata": {
    "id": "CuYNz9wMkN9h"
   },
   "outputs": [
    {
     "name": "stdout",
     "output_type": "stream",
     "text": [
      "a:-3.0,b:-13.0,c:-13\n",
      "delta=-3.605551275463989\n",
      "x3=0.4342585459106647\n",
      "erro=3.6055512754639913\n",
      "a:-1.8362146258571872,b:-6.086139909237714,c:1.0308867252420406\n",
      "delta=-6.679282605548433\n",
      "x3=0.5957709007188143\n",
      "erro=0.2710980925944527\n",
      "a:-4.138126518779937,b:-3.818658151911709,c:0.5220744195657747\n",
      "delta=-4.819106772285592\n",
      "x3=0.7166527316432165\n",
      "erro=0.16867560198540185\n",
      "a:-9.085039329151174,b:-6.814078065201362,c:-0.16886942944584393\n",
      "delta=-6.347827836877044\n",
      "x3=0.6909924008822774\n",
      "erro=0.03713547461328852\n",
      "a:-10.06991694187899,b:-6.416337075336756,c:0.0024064649189814435\n",
      "delta=-6.423886134714079\n",
      "x3=0.6913672331386354\n",
      "erro=0.0005421608638527477\n",
      "a:-10.356562515317561,b:-6.41674560250262,c:2.716775280076078e-06\n",
      "delta=-6.416754372192287\n",
      "x3=0.6913676565266877\n",
      "erro=6.123920440857721e-07\n"
     ]
    }
   ],
   "source": [
    "xr = muller(0,1,2,func,0.00001)"
   ]
  },
  {
   "cell_type": "code",
   "execution_count": 20,
   "metadata": {
    "colab": {
     "base_uri": "https://localhost:8080/"
    },
    "id": "fh9Xg2KzkdYC",
    "outputId": "dda0f8e8-500b-4238-dcce-80c162bb2621"
   },
   "outputs": [
    {
     "data": {
      "text/plain": [
       "(-2.058972038099484+0.6944081456387862j)"
      ]
     },
     "execution_count": 20,
     "metadata": {},
     "output_type": "execute_result"
    }
   ],
   "source": [
    "xr"
   ]
  },
  {
   "cell_type": "code",
   "execution_count": 18,
   "metadata": {
    "colab": {
     "base_uri": "https://localhost:8080/",
     "height": 283
    },
    "id": "jJHc2e77lLGa",
    "outputId": "491d1dd2-0f5b-4f42-a018-3479148fcccf"
   },
   "outputs": [
    {
     "data": {
      "text/plain": [
       "[<matplotlib.lines.Line2D at 0x2973339d7c0>]"
      ]
     },
     "execution_count": 18,
     "metadata": {},
     "output_type": "execute_result"
    },
    {
     "data": {
      "image/png": "[encoded data removed]",
      "text/plain": [
       "<Figure size 432x288 with 1 Axes>"
      ]
     },
     "metadata": {
      "needs_background": "light"
     },
     "output_type": "display_data"
    }
   ],
   "source": [
    "x=np.linspace(-3,3,1000)\n",
    "y=[]\n",
    "for i in x:\n",
    "  y.append(func(i))\n",
    "plt.grid()\n",
    "plt.plot(x, y, label=\"Análise de fc(x)\")"
   ]
  },
  {
   "cell_type": "code",
   "execution_count": null,
   "metadata": {},
   "outputs": [],
   "source": []
  }
 ],
 "metadata": {
  "colab": {
   "name": "Metodo_Muller.ipynb",
   "provenance": []
  },
  "kernelspec": {
   "display_name": "Python 3 (ipykernel)",
   "language": "python",
   "name": "python3"
  },
  "language_info": {
   "codemirror_mode": {
    "name": "ipython",
    "version": 3
   },
   "file_extension": ".py",
   "mimetype": "text/x-python",
   "name": "python",
   "nbconvert_exporter": "python",
   "pygments_lexer": "ipython3",
   "version": "3.9.12"
  }
 },
 "nbformat": 4,
 "nbformat_minor": 1
}
