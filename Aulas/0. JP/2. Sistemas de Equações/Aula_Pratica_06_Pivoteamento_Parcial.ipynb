{
 "cells": [
  {
   "cell_type": "code",
   "execution_count": 1,
   "id": "578f6031",
   "metadata": {},
   "outputs": [],
   "source": [
    "import math\n",
    "import matplotlib.pyplot as plt\n",
    "import numpy as np"
   ]
  },
  {
   "cell_type": "code",
   "execution_count": 2,
   "id": "412a23ad",
   "metadata": {},
   "outputs": [
    {
     "name": "stdout",
     "output_type": "stream",
     "text": [
      "Fornecer a ordem do sistema de equações: 3\n"
     ]
    }
   ],
   "source": [
    "ordem = int(input('Fornecer a ordem do sistema de equações: '))\n",
    "A = np.zeros([ordem,ordem],dtype='float')"
   ]
  },
  {
   "cell_type": "code",
   "execution_count": 3,
   "id": "1178477c",
   "metadata": {},
   "outputs": [
    {
     "name": "stdout",
     "output_type": "stream",
     "text": [
      "Elemento de pos. (1,1) da matriz A: 1\n",
      "Elemento de pos. (1,2) da matriz A: 2\n",
      "Elemento de pos. (1,3) da matriz A: -1\n",
      "Elemento de pos. (2,1) da matriz A: -1\n",
      "Elemento de pos. (2,2) da matriz A: 2\n",
      "Elemento de pos. (2,3) da matriz A: 0\n",
      "Elemento de pos. (3,1) da matriz A: 2\n",
      "Elemento de pos. (3,2) da matriz A: 1\n",
      "Elemento de pos. (3,3) da matriz A: -1\n",
      "[[ 1.  2. -1.]\n",
      " [-1.  2.  0.]\n",
      " [ 2.  1. -1.]]\n"
     ]
    }
   ],
   "source": [
    "for i in range(0,ordem):\n",
    "    for j in range(0,ordem):\n",
    "        A[i,j] = float(input('Elemento de pos. (%d,%d) da matriz A: ' %(i+1,j+1)))\n",
    "        \n",
    "    \n",
    "print(A)"
   ]
  },
  {
   "cell_type": "code",
   "execution_count": 4,
   "id": "8236a5dc",
   "metadata": {},
   "outputs": [],
   "source": [
    "def elimina_gauss_pivoteamento(A,B):\n",
    "    Ac = np.copy(A)\n",
    "    Bc = np.copy(B)\n",
    "    for i in range(0,len(Ac)-1):\n",
    "        pivo = Ac[i,i]\n",
    "        z = i+1\n",
    "        achou = 0\n",
    "        linha = i\n",
    "        while z < len(Ac):\n",
    "            if abs(Ac[z,i]) > abs(pivo):\n",
    "                pivo = Ac[z,i]\n",
    "                linha = z\n",
    "                achou = 1\n",
    "            z=z+1\n",
    "        if achou == 1:\n",
    "            Aux = np.copy(Ac)\n",
    "            Ac[i,:] = np.copy(Ac[linha,:])\n",
    "            Ac[linha,:] = np.copy(Aux[i,:])\n",
    "            Aux = np.copy(Bc)\n",
    "            Bc[i] = Bc[linha]\n",
    "            Bc[linha] = Aux[i]\n",
    "        \n",
    "                \n",
    "            \n",
    "        for j in range(i+1,len(Ac)):\n",
    "            \n",
    "            m = (-1)*Ac[j,i]/Ac[i,i]\n",
    "            Ac[j,:] = Ac[i,:]*m + Ac[j,:]\n",
    "            Bc[j] = Bc[i]*m + Bc[j]\n",
    "            \n",
    "    return(Ac,Bc)"
   ]
  },
  {
   "cell_type": "code",
   "execution_count": 9,
   "id": "c5bbe953",
   "metadata": {},
   "outputs": [],
   "source": [
    "def calcula_sol_mts(A,B):\n",
    "    xr = np.zeros([len(A),1],dtype='float')\n",
    "    idr = len(A)-1\n",
    "    while idr >= 0:\n",
    "        z = idr+1\n",
    "        soma = 0\n",
    "        while z < len(A):\n",
    "            soma = soma+A[idr,z]*xr[z]\n",
    "            z=z+1\n",
    "            \n",
    "        xr[idr] = (B[idr]-soma)/A[idr,idr]\n",
    "        idr=idr-1\n",
    "        \n",
    "    return(xr)"
   ]
  },
  {
   "cell_type": "code",
   "execution_count": 6,
   "id": "a067771b",
   "metadata": {},
   "outputs": [],
   "source": [
    "I = np.eye(3)"
   ]
  },
  {
   "cell_type": "code",
   "execution_count": 7,
   "id": "c79ef29f",
   "metadata": {},
   "outputs": [
    {
     "name": "stdout",
     "output_type": "stream",
     "text": [
      "[[1. 0. 0.]\n",
      " [0. 1. 0.]\n",
      " [0. 0. 1.]]\n"
     ]
    }
   ],
   "source": [
    "print(I)"
   ]
  },
  {
   "cell_type": "code",
   "execution_count": 23,
   "id": "85e772b5",
   "metadata": {},
   "outputs": [
    {
     "name": "stdout",
     "output_type": "stream",
     "text": [
      "[[1.]\n",
      " [0.]\n",
      " [0.]] [[0.]\n",
      " [1.]\n",
      " [0.]] [[0.]\n",
      " [0.]\n",
      " [1.]]\n"
     ]
    }
   ],
   "source": [
    "B1 = I[:,0]\n",
    "B1 = np.reshape(B1,(ordem,1))\n",
    "B2 = I[:,1]\n",
    "B2 = np.reshape(B2,(ordem,1))\n",
    "B3 = I[:,2]\n",
    "B3 = np.reshape(B3,(ordem,1))\n",
    "print(B1,B2,B3)"
   ]
  },
  {
   "cell_type": "code",
   "execution_count": 35,
   "id": "fa7e8f66",
   "metadata": {},
   "outputs": [
    {
     "name": "stdout",
     "output_type": "stream",
     "text": [
      "[[-2.  1.  2.]\n",
      " [-1.  1.  1.]\n",
      " [-5.  3.  4.]]\n"
     ]
    }
   ],
   "source": [
    "[Ac1,Bc1] = elimina_gauss_pivoteamento(A,B1)\n",
    "x1 = calcula_sol_mts(Ac1,Bc1)\n",
    "\n",
    "[Ac2,Bc2] = elimina_gauss_pivoteamento(A,B2)\n",
    "x2 = calcula_sol_mts(Ac2,Bc2)\n",
    "\n",
    "[Ac3,Bc3] = elimina_gauss_pivoteamento(A,B3)\n",
    "x3 = calcula_sol_mts(Ac3,Bc3)\n",
    "\n",
    "Sol = np.zeros([ordem,ordem],dtype='float')\n",
    "Sol = np.column_stack((x1,x2,x3))\n",
    "print(Sol)\n"
   ]
  },
  {
   "cell_type": "code",
   "execution_count": 36,
   "id": "32088a17",
   "metadata": {},
   "outputs": [
    {
     "name": "stdout",
     "output_type": "stream",
     "text": [
      "[[1.0000000e+00 4.4408921e-16 0.0000000e+00]\n",
      " [0.0000000e+00 1.0000000e+00 0.0000000e+00]\n",
      " [0.0000000e+00 0.0000000e+00 1.0000000e+00]]\n"
     ]
    }
   ],
   "source": [
    "Res = A@Sol\n",
    "print(Res)"
   ]
  },
  {
   "cell_type": "code",
   "execution_count": 37,
   "id": "508939a8",
   "metadata": {},
   "outputs": [],
   "source": [
    "def elimina_gauss(A,B):\n",
    "    Ac = np.copy(A)\n",
    "    Bc = np.copy(B)\n",
    "    for i in range(0,len(Ac)-1):\n",
    "        pivo = Ac[i,i]\n",
    "        for j in range(i+1,len(Ac)):\n",
    "            \n",
    "            m = (-1)*Ac[j,i]/Ac[i,i]\n",
    "            Ac[j,:] = Ac[i,:]*m + Ac[j,:]\n",
    "            Bc[j] = Bc[i]*m + Bc[j]\n",
    "            \n",
    "    return(Ac,Bc)"
   ]
  },
  {
   "cell_type": "code",
   "execution_count": 56,
   "id": "c3d96bf8",
   "metadata": {},
   "outputs": [
    {
     "name": "stdout",
     "output_type": "stream",
     "text": [
      "Fornecer a ordem do sistema de equações: 3\n",
      "Elemento de pos. (1,1) da matriz A: 1\n",
      "Elemento de pos. (1,2) da matriz A: 1\n",
      "Elemento de pos. (1,3) da matriz A: 1\n",
      "Elemento de pos. (2,1) da matriz A: 1\n",
      "Elemento de pos. (2,2) da matriz A: 0\n",
      "Elemento de pos. (2,3) da matriz A: 10\n",
      "Elemento de pos. (3,1) da matriz A: 0\n",
      "Elemento de pos. (3,2) da matriz A: 10\n",
      "Elemento de pos. (3,3) da matriz A: 1\n",
      "[[ 1.  1.  1.]\n",
      " [ 1.  0. 10.]\n",
      " [ 0. 10.  1.]]\n"
     ]
    }
   ],
   "source": [
    "ordem = int(input('Fornecer a ordem do sistema de equações: '))\n",
    "A = np.zeros([ordem,ordem],dtype='float')\n",
    "for i in range(0,ordem):\n",
    "    for j in range(0,ordem):\n",
    "        A[i,j] = float(input('Elemento de pos. (%d,%d) da matriz A: ' %(i+1,j+1)))\n",
    "        \n",
    "    \n",
    "print(A)"
   ]
  },
  {
   "cell_type": "code",
   "execution_count": 57,
   "id": "87247e8d",
   "metadata": {},
   "outputs": [
    {
     "name": "stdout",
     "output_type": "stream",
     "text": [
      "Elemento de pos. 1 do vetor B: 0\n",
      "Elemento de pos. 2 do vetor B: -48\n",
      "Elemento de pos. 3 do vetor B: 25\n",
      "[[  0.]\n",
      " [-48.]\n",
      " [ 25.]]\n"
     ]
    }
   ],
   "source": [
    "B = np.zeros([ordem,1],dtype='float')\n",
    "for i in range(0,ordem):\n",
    "    B[i] = float(input('Elemento de pos. %d do vetor B: ' %(i+1)))\n",
    "    \n",
    "print(B)"
   ]
  },
  {
   "cell_type": "code",
   "execution_count": 60,
   "id": "d6479180",
   "metadata": {},
   "outputs": [
    {
     "name": "stdout",
     "output_type": "stream",
     "text": [
      "[[ 1.   1.   1. ]\n",
      " [ 0.  10.   1. ]\n",
      " [ 0.   0.   9.1]] [[  0. ]\n",
      " [ 25. ]\n",
      " [-45.5]]\n",
      "[[ 2.]\n",
      " [ 3.]\n",
      " [-5.]]\n"
     ]
    }
   ],
   "source": [
    "[Ac1,Bc1] = elimina_gauss_pivoteamento(A,B)\n",
    "print(Ac1,Bc1)\n",
    "x1 = calcula_sol_mts(Ac1,Bc1)\n",
    "print(x1)"
   ]
  },
  {
   "cell_type": "code",
   "execution_count": 61,
   "id": "843e3392",
   "metadata": {},
   "outputs": [
    {
     "name": "stdout",
     "output_type": "stream",
     "text": [
      "[[ 1.  1.  1.]\n",
      " [ 0. -1.  9.]\n",
      " [ 0.  0. 91.]] [[   0.]\n",
      " [ -48.]\n",
      " [-455.]]\n",
      "[[ 2.]\n",
      " [ 3.]\n",
      " [-5.]]\n"
     ]
    }
   ],
   "source": [
    "[Ac2,Bc2] = elimina_gauss(A,B)\n",
    "print(Ac2,Bc2)\n",
    "x2 = calcula_sol_mts(Ac2,Bc2)\n",
    "print(x2)"
   ]
  },
  {
   "cell_type": "code",
   "execution_count": 62,
   "id": "f7c0e6a0",
   "metadata": {},
   "outputs": [],
   "source": [
    "def checa_pivo_nulo(A,B):\n",
    "    Ac = np.copy(A)\n",
    "    Bc = np.copy(B)\n",
    "    for i in range(0,len(Ac)-1):\n",
    "        pivo = Ac[i,i]\n",
    "        if pivo == 0:\n",
    "            z = i+1\n",
    "            achou = 0\n",
    "            linha = i\n",
    "            while z < len(Ac):\n",
    "                if abs(Ac[z,i]) > abs(pivo):\n",
    "                    pivo = Ac[z,i]\n",
    "                    linha = z\n",
    "                    achou = 1\n",
    "                z=z+1\n",
    "            if achou == 1:\n",
    "                Aux = np.copy(Ac)\n",
    "                Ac[i,:] = np.copy(Ac[linha,:])\n",
    "                Ac[linha,:] = np.copy(Aux[i,:])\n",
    "                Aux = np.copy(Bc)\n",
    "                Bc[i] = Bc[linha]\n",
    "                Bc[linha] = Aux[i]\n",
    "        \n",
    "                \n",
    "            \n",
    "       \n",
    "            \n",
    "    return(Ac,Bc)"
   ]
  },
  {
   "cell_type": "code",
   "execution_count": 67,
   "id": "4a9107ad",
   "metadata": {},
   "outputs": [],
   "source": [
    "def Gauss_Jordan(A,B):\n",
    "    Ac = np.copy(A)\n",
    "    Bc = np.copy(B)\n",
    "    for i in range(0,len(Ac)):\n",
    "        pivo = Ac[i,i]\n",
    "        Ac[i,:] = Ac[i,:]/pivo\n",
    "        Bc[i] = Bc[i]/pivo\n",
    "        for j in range(0,len(Ac)):\n",
    "            \n",
    "            if j != i:\n",
    "                m = (-1)*Ac[j,i]\n",
    "                Ac[j,:] = Ac[i,:]*m + Ac[j,:]\n",
    "                Bc[j] = Bc[i]*m + Bc[j]\n",
    "            \n",
    "    return(Ac,Bc)"
   ]
  },
  {
   "cell_type": "code",
   "execution_count": 64,
   "id": "94e09c23",
   "metadata": {},
   "outputs": [
    {
     "name": "stdout",
     "output_type": "stream",
     "text": [
      "Fornecer a ordem do sistema de equações: 3\n",
      "Elemento de pos. (1,1) da matriz A: 2\n",
      "Elemento de pos. (1,2) da matriz A: 1\n",
      "Elemento de pos. (1,3) da matriz A: -1\n",
      "Elemento de pos. (2,1) da matriz A: 5\n",
      "Elemento de pos. (2,2) da matriz A: 2\n",
      "Elemento de pos. (2,3) da matriz A: 2\n",
      "Elemento de pos. (3,1) da matriz A: 3\n",
      "Elemento de pos. (3,2) da matriz A: 1\n",
      "Elemento de pos. (3,3) da matriz A: 1\n",
      "[[ 2.  1. -1.]\n",
      " [ 5.  2.  2.]\n",
      " [ 3.  1.  1.]]\n",
      "Elemento de pos. 1 do vetor B: 1\n",
      "Elemento de pos. 2 do vetor B: -4\n",
      "Elemento de pos. 3 do vetor B: 5\n",
      "[[ 1.]\n",
      " [-4.]\n",
      " [ 5.]]\n"
     ]
    }
   ],
   "source": [
    "ordem = int(input('Fornecer a ordem do sistema de equações: '))\n",
    "A = np.zeros([ordem,ordem],dtype='float')\n",
    "for i in range(0,ordem):\n",
    "    for j in range(0,ordem):\n",
    "        A[i,j] = float(input('Elemento de pos. (%d,%d) da matriz A: ' %(i+1,j+1)))\n",
    "        \n",
    "    \n",
    "print(A)\n",
    "\n",
    "B = np.zeros([ordem,1],dtype='float')\n",
    "for i in range(0,ordem):\n",
    "    B[i] = float(input('Elemento de pos. %d do vetor B: ' %(i+1)))\n",
    "    \n",
    "print(B)"
   ]
  },
  {
   "cell_type": "code",
   "execution_count": 71,
   "id": "777b98a1",
   "metadata": {},
   "outputs": [
    {
     "name": "stdout",
     "output_type": "stream",
     "text": [
      "[[ 2.  1. -1.]\n",
      " [ 5.  2.  2.]\n",
      " [ 3.  1.  1.]]\n",
      "[[ 1.]\n",
      " [-4.]\n",
      " [ 5.]]\n"
     ]
    }
   ],
   "source": [
    "[Ac,Bc] = checa_pivo_nulo(A,B)\n",
    "print(Ac)\n",
    "print(Bc)"
   ]
  },
  {
   "cell_type": "code",
   "execution_count": 68,
   "id": "c20867f7",
   "metadata": {},
   "outputs": [
    {
     "name": "stdout",
     "output_type": "stream",
     "text": [
      "[[ 1.  0.  0.]\n",
      " [-0.  1.  0.]\n",
      " [-0. -0.  1.]]\n",
      "[[ 14.]\n",
      " [-32.]\n",
      " [ -5.]]\n"
     ]
    }
   ],
   "source": [
    "[Aj,Bj] = Gauss_Jordan(Ac,Bc)\n",
    "print(Aj)\n",
    "print(Bj)"
   ]
  },
  {
   "cell_type": "code",
   "execution_count": 69,
   "id": "3bb5b8b7",
   "metadata": {},
   "outputs": [
    {
     "name": "stdout",
     "output_type": "stream",
     "text": [
      "[[0.]\n",
      " [0.]\n",
      " [0.]]\n"
     ]
    }
   ],
   "source": [
    "res = A@Bj-B\n",
    "print(res)"
   ]
  },
  {
   "cell_type": "code",
   "execution_count": 74,
   "id": "e96bd349",
   "metadata": {},
   "outputs": [],
   "source": [
    "def Gauss_Jordan_Inversa(A):\n",
    "    Ac = np.copy(A)\n",
    "    Bc = np.eye(len(Ac))\n",
    "    for i in range(0,len(Ac)):\n",
    "        pivo = Ac[i,i]\n",
    "        Ac[i,:] = Ac[i,:]/pivo\n",
    "        Bc[i,:] = Bc[i,:]/pivo\n",
    "        for j in range(0,len(Ac)):\n",
    "            \n",
    "            if j != i:\n",
    "                m = (-1)*Ac[j,i]\n",
    "                Ac[j,:] = Ac[i,:]*m + Ac[j,:]\n",
    "                Bc[j,:] = Bc[i,:]*m + Bc[j,:]\n",
    "               \n",
    "            \n",
    "    return Bc"
   ]
  },
  {
   "cell_type": "code",
   "execution_count": 75,
   "id": "6c6a5e34",
   "metadata": {},
   "outputs": [
    {
     "name": "stdout",
     "output_type": "stream",
     "text": [
      "[[ 2.  1. -1.]\n",
      " [ 5.  2.  2.]\n",
      " [ 3.  1.  1.]]\n",
      "[[ 0.  -1.   2. ]\n",
      " [ 0.5  2.5 -4.5]\n",
      " [-0.5  0.5 -0.5]]\n",
      "[[1. 0. 0.]\n",
      " [0. 1. 0.]\n",
      " [0. 0. 1.]]\n"
     ]
    }
   ],
   "source": [
    "Ainv = Gauss_Jordan_Inversa(Ac)\n",
    "print(Ac)\n",
    "print(Ainv)\n",
    "print(Ac@Ainv)"
   ]
  },
  {
   "cell_type": "code",
   "execution_count": null,
   "id": "51e61ec5",
   "metadata": {},
   "outputs": [],
   "source": []
  }
 ],
 "metadata": {
  "kernelspec": {
   "display_name": "Python 3 (ipykernel)",
   "language": "python",
   "name": "python3"
  },
  "language_info": {
   "codemirror_mode": {
    "name": "ipython",
    "version": 3
   },
   "file_extension": ".py",
   "mimetype": "text/x-python",
   "name": "python",
   "nbconvert_exporter": "python",
   "pygments_lexer": "ipython3",
   "version": "3.9.12"
  }
 },
 "nbformat": 4,
 "nbformat_minor": 5
}
