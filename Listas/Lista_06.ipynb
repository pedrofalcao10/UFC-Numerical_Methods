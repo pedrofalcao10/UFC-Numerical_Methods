{
  "nbformat": 4,
  "nbformat_minor": 0,
  "metadata": {
    "colab": {
      "provenance": [],
      "collapsed_sections": [
        "iixwNigNxnHK",
        "3KsrcSdV38uX",
        "Hqp-dNke4wqZ",
        "eHYVRImlELWI",
        "ZVjVFgce9nIz",
        "-1hRSUF3hplE",
        "0JK5HQsttXVA",
        "UjpWLXROsUm0",
        "AO9mFGCdtwTe",
        "gN7ZWl89u7F1",
        "W0ggc94QvFnn",
        "qYba1Kz-vMM1",
        "2pmRSHpqvSa3",
        "ODH8sQ9W2DgD",
        "AtfMLmrP2GnO",
        "71fSsT-f2ILl",
        "aHEFXkVJ2J6i",
        "4dgTWbROv2ii",
        "NxALa405wO02"
      ]
    },
    "kernelspec": {
      "name": "python3",
      "display_name": "Python 3"
    },
    "language_info": {
      "name": "python"
    }
  },
  "cells": [
    {
      "cell_type": "code",
      "execution_count": 16,
      "metadata": {
        "id": "Dyz7fyRKhMG1"
      },
      "outputs": [],
      "source": [
        "import numpy as np\n",
        "from scipy.interpolate import lagrange"
      ]
    },
    {
      "cell_type": "markdown",
      "source": [
        "#**Funções**"
      ],
      "metadata": {
        "id": "iQydYJSxiuru"
      }
    },
    {
      "cell_type": "markdown",
      "source": [
        "## Polinômio interpolador linear"
      ],
      "metadata": {
        "id": "iixwNigNxnHK"
      }
    },
    {
      "cell_type": "code",
      "source": [
        "def p1(x0, y0, x1, y1, x):\n",
        "    return y0 + ((y1 - y0) / (x1 - x0 )) * (x - x0)"
      ],
      "metadata": {
        "id": "N4Tn3Zk4xrlW"
      },
      "execution_count": 17,
      "outputs": []
    },
    {
      "cell_type": "markdown",
      "source": [
        "## Diferenças Divididas"
      ],
      "metadata": {
        "id": "3KsrcSdV38uX"
      }
    },
    {
      "cell_type": "code",
      "source": [
        "def divided_differences(x, fx):\n",
        "    n = len(fx)\n",
        "    table = np.zeros((n, n))\n",
        "    table[:, 0] = fx\n",
        "\n",
        "    for j in range(1, n):\n",
        "        for i in range(n - j):\n",
        "            table[i][j] = (table[i + 1][j - 1] - table[i][j - 1]) / (x[i + j] - x[i])\n",
        "\n",
        "    return table[0]"
      ],
      "metadata": {
        "id": "Gy8JOdBg37_L"
      },
      "execution_count": 18,
      "outputs": []
    },
    {
      "cell_type": "markdown",
      "source": [
        "## Polinômio interpolador de Newton"
      ],
      "metadata": {
        "id": "Hqp-dNke4wqZ"
      }
    },
    {
      "cell_type": "code",
      "source": [
        "def newton_interpolation(x0, xroots, divided_differences):\n",
        "    n = len(xroots)\n",
        "    result = 0\n",
        "\n",
        "    for i in range(n):\n",
        "        term = divided_differences[i]\n",
        "        for j in range(i):\n",
        "            term *= (x0 - xroots[j])\n",
        "        result += term\n",
        "\n",
        "    return result"
      ],
      "metadata": {
        "id": "lCu73jsI40j4"
      },
      "execution_count": 19,
      "outputs": []
    },
    {
      "cell_type": "markdown",
      "source": [
        "## Polinômio interpolador de Lagrange"
      ],
      "metadata": {
        "id": "X1St01KTz3rt"
      }
    },
    {
      "cell_type": "code",
      "source": [
        "def lagrange_interpolation(x0, xroots, yroots):\n",
        "    n = len(xroots)\n",
        "    result = 0\n",
        "\n",
        "    for k in range(n):\n",
        "        prod = 1\n",
        "\n",
        "        for j in range(n):\n",
        "            if j != k:\n",
        "                prod *= (x0 - xroots[j]) / (xroots[k] - xroots[j])\n",
        "\n",
        "        result += yroots[k] * prod\n",
        "\n",
        "    return result\n",
        "\n",
        "\n",
        "# from scipy.interpolate import lagrange\n",
        "\n",
        "# # Dados de exemplo\n",
        "# x = np.array([1, 2, 3, 4, 5])\n",
        "# y = np.array([1, 4, 9, 16, 25])\n",
        "\n",
        "# # Função de interpolação polinomial de Lagrange\n",
        "# polynomial_interpolation = lagrange(x, y)\n",
        "\n",
        "# # Agora, você pode usar a função `polynomial_interpolation` para calcular valores interpolados\n",
        "# x_interp = 2.5  # Ponto onde você deseja interpolar\n",
        "# y_interp = polynomial_interpolation(x_interp)\n",
        "\n",
        "# print(f\"Para x = {x_interp}, y = {y_interp}\")"
      ],
      "metadata": {
        "id": "P92qZ6pU0ff3"
      },
      "execution_count": 20,
      "outputs": []
    },
    {
      "cell_type": "markdown",
      "source": [
        "## Método da Bissecção pra interpolação inversa"
      ],
      "metadata": {
        "id": "eHYVRImlELWI"
      }
    },
    {
      "cell_type": "code",
      "source": [
        "def bissection(f, a, b, maxiter=1000):\n",
        "    i = 1\n",
        "    r = (a + b) / 2\n",
        "\n",
        "    while i <= maxiter:\n",
        "        if f(r) == 0:\n",
        "            return r\n",
        "\n",
        "        if np.sign(f(r)) == np.sign(f(a)):\n",
        "            a = r\n",
        "        else:\n",
        "            b = r\n",
        "\n",
        "        x_ant = r\n",
        "        r = (a + b) / 2\n",
        "\n",
        "        i += 1\n",
        "    return r"
      ],
      "metadata": {
        "id": "tefHmjaB9mhj"
      },
      "execution_count": 21,
      "outputs": []
    },
    {
      "cell_type": "markdown",
      "source": [
        "## Interpolação inversa\n"
      ],
      "metadata": {
        "id": "ZVjVFgce9nIz"
      }
    },
    {
      "cell_type": "code",
      "source": [
        "def inverse_interpolation(x, fx, fx0, a, b):\n",
        "    coefficients = divided_differences(x, fx)\n",
        "\n",
        "    f = lambda x_val: newton_interpolation(x_val, x, coefficients) - fx0\n",
        "\n",
        "    return bissection(f, a, b)"
      ],
      "metadata": {
        "id": "M2ncjpaEEOqL"
      },
      "execution_count": 22,
      "outputs": []
    },
    {
      "cell_type": "markdown",
      "source": [
        "# 1) Faça uma estimativa do logaritmo de 10 na base 10 ($log_{10}$) usando interpolação linear. Para cada interpolação, calcule o erro relativo percentual baseado no valor verdadeiro. (ok)"
      ],
      "metadata": {
        "id": "-1hRSUF3hplE"
      }
    },
    {
      "cell_type": "markdown",
      "source": [
        "## (a) Interpole entre $log_{10}8$ = 0.9030900 e $log_{10}12$ = 1.0791812;"
      ],
      "metadata": {
        "id": "wmlAmULntI1B"
      }
    },
    {
      "cell_type": "code",
      "source": [
        "log10a = p1(8, 0.9030900, 12, 1.0791812, 10)\n",
        "\n",
        "erro = 100 * np.abs(np.log10(10) - log10a)/np.log10(10)\n",
        "\n",
        "print(f'Estimativa: {log10a} \\nErro %: {erro}')"
      ],
      "metadata": {
        "colab": {
          "base_uri": "https://localhost:8080/"
        },
        "id": "ZXgN3cSoyMUC",
        "outputId": "90ae4c57-202a-426a-c4ea-f94abe4928ce"
      },
      "execution_count": 23,
      "outputs": [
        {
          "output_type": "stream",
          "name": "stdout",
          "text": [
            "Estimativa: 0.9911356 \n",
            "Erro %: 0.8864399999999995\n"
          ]
        }
      ]
    },
    {
      "cell_type": "markdown",
      "source": [
        "## (b) Interpole entre $log_{10}9$ = 0.9542425 e $log_{10}11$ = 1.0413927;"
      ],
      "metadata": {
        "id": "0JK5HQsttXVA"
      }
    },
    {
      "cell_type": "code",
      "source": [
        "log10b = p1(9, 0.9542425, 11, 1.0413927, 10)\n",
        "\n",
        "erro = 100 * np.abs(np.log10(10) - log10b)/np.log10(10)\n",
        "\n",
        "print(f'Estimativa: {log10b} \\nErro %: {erro}')"
      ],
      "metadata": {
        "colab": {
          "base_uri": "https://localhost:8080/"
        },
        "id": "suKythfnzowc",
        "outputId": "9fa2fd34-bfda-4a7b-878f-e269c30b32fe"
      },
      "execution_count": 24,
      "outputs": [
        {
          "output_type": "stream",
          "name": "stdout",
          "text": [
            "Estimativa: 0.9978176000000001 \n",
            "Erro %: 0.21823999999999177\n"
          ]
        }
      ]
    },
    {
      "cell_type": "markdown",
      "source": [
        "# 2) Ajuste um polinômio interpolador de Newton de segundo grau para fazer uma estimativa de $log_{10}10$, usando os dados do problema anterior em x = 8, 9, 11. Calcule o erro relativo percentual verdadeiro. (ok)"
      ],
      "metadata": {
        "id": "UjpWLXROsUm0"
      }
    },
    {
      "cell_type": "code",
      "source": [
        "x = np.array([8, 9, 11])\n",
        "fx = np.array([0.9030900, 0.9542425, 1.0413927])\n",
        "\n",
        "coefficients = divided_differences(x, fx)\n",
        "\n",
        "log10 = newton_interpolation(10, x, coefficients)\n",
        "erro = 100 * np.abs(np.log10(10) - log10) / np.log10(10)\n",
        "\n",
        "print(f'Estimativa: {log10} \\nErro %: {erro}')"
      ],
      "metadata": {
        "colab": {
          "base_uri": "https://localhost:8080/"
        },
        "id": "5gGYakZR1teR",
        "outputId": "a9652728-c338-4ce4-bdff-b26c30d0e819"
      },
      "execution_count": 25,
      "outputs": [
        {
          "output_type": "stream",
          "name": "stdout",
          "text": [
            "Estimativa: 1.0003434 \n",
            "Erro %: 0.03433999999999937\n"
          ]
        }
      ]
    },
    {
      "cell_type": "markdown",
      "source": [
        "# 3) Considere os dados abaixo: (ok)\n",
        "\n",
        "$$\n",
        "\\begin{array}{|c|c|c|}\n",
        "\\hline\n",
        "\\text{x} & \\text{1.6} & \\text{2.0} & \\text{2.5} & \\text{3.2} & \\text{4.0} & \\text{4.5}\\\\\n",
        "\\hline\n",
        "\\text{f(x)} & \\text{2} & \\text{8} & \\text{14} & \\text{15} & \\text{8} & \\text{2}\\\\\n",
        "\\hline\n",
        "\\end{array}\n",
        "$$"
      ],
      "metadata": {
        "id": "AO9mFGCdtwTe"
      }
    },
    {
      "cell_type": "markdown",
      "source": [
        "## (a) Calcule $f(2.8)$ usando polinômios interpoladores de Newton de primeiro a terceiro graus. Escolha a sequência de pontos para fazer sua estimativa de modo a atingir a melhor acurácia possível."
      ],
      "metadata": {
        "id": "gN7ZWl89u7F1"
      }
    },
    {
      "cell_type": "code",
      "source": [
        "x0 = 2.8\n",
        "\n",
        "x1 = np.array([2.5, 3.2])\n",
        "fx1 = np.array([14, 15])\n",
        "coefficients1 = divided_differences(x1, fx1)\n",
        "\n",
        "x2 = np.array([2, 2.5, 3.2])\n",
        "fx2 = np.array([8, 14, 15])\n",
        "coefficients2 = divided_differences(x2, fx2)\n",
        "\n",
        "x3 = np.array([2, 2.5, 3.2, 4])\n",
        "fx3 = np.array([8, 14, 15, 8])\n",
        "coefficients3 = divided_differences(x3, fx3)\n",
        "\n",
        "f1 = newton_interpolation(x0, x1, coefficients1)\n",
        "f2 = newton_interpolation(x0, x2, coefficients2)\n",
        "f3 = newton_interpolation(x0, x3, coefficients3)\n",
        "\n",
        "print(f'Estimativa f({x0}) 1º grau: {f1}')\n",
        "print(f'Estimativa f({x0}) 2º grau: {f2}')\n",
        "print(f'Estimativa f({x0}) 3º grau: {f3}')\n",
        "\n",
        "x4 = np.array([2, 2.5, 3.2, 4, 4.5])\n",
        "fx4 = np.array([8, 14, 15, 8, 2])\n",
        "coefficients4 = divided_differences(x4, fx4)\n",
        "f4 = newton_interpolation(x0, x4, coefficients4)"
      ],
      "metadata": {
        "colab": {
          "base_uri": "https://localhost:8080/"
        },
        "id": "Ci7vFI3q6qMB",
        "outputId": "6ba6bc33-9182-4238-bafe-0e6d5d6cd5b7"
      },
      "execution_count": 26,
      "outputs": [
        {
          "output_type": "stream",
          "name": "stdout",
          "text": [
            "Estimativa f(2.8) 1º grau: 14.428571428571429\n",
            "Estimativa f(2.8) 2º grau: 15.485714285714286\n",
            "Estimativa f(2.8) 3º grau: 15.388571428571428\n"
          ]
        }
      ]
    },
    {
      "cell_type": "markdown",
      "source": [
        "## (b) Utilize a equação $R_n = f_{n+1}(x) - f_n(x)$ para fazer uma estimativa do erro em cada previsão.\n"
      ],
      "metadata": {
        "id": "W0ggc94QvFnn"
      }
    },
    {
      "cell_type": "code",
      "source": [
        "r1 = f2 - f1\n",
        "r2 = f3 - f2\n",
        "r3 = f4 - f3\n",
        "\n",
        "print(f'Erro 1º grau: {r1}')\n",
        "print(f'Erro 2º grau: {r2}')\n",
        "print(f'Erro 3º grau: {r3}')"
      ],
      "metadata": {
        "colab": {
          "base_uri": "https://localhost:8080/"
        },
        "id": "MeOnsDJ39KQk",
        "outputId": "88a8415e-022c-4386-cc53-e117365358ea"
      },
      "execution_count": 27,
      "outputs": [
        {
          "output_type": "stream",
          "name": "stdout",
          "text": [
            "Erro 1º grau: 1.057142857142857\n",
            "Erro 2º grau: -0.09714285714285786\n",
            "Erro 3º grau: 0.05211428571428556\n"
          ]
        }
      ]
    },
    {
      "cell_type": "markdown",
      "source": [
        "# 4) Considere os dados abaixo:\n",
        "\n",
        "$$\n",
        "\\begin{array}{|c|c|c|}\n",
        "\\hline\n",
        "\\text{x} & \\text{1} & \\text{2} & \\text{3} & \\text{5} & \\text{7} & \\text{8}\\\\\n",
        "\\hline\n",
        "\\text{f(x)} & \\text{3} & \\text{6} & \\text{19} & \\text{99} & \\text{291} & \\text{444}\\\\\n",
        "\\hline\n",
        "\\end{array}\n",
        "$$\n",
        "\n",
        "# Calcule $f(4)$ usando polinômios interpoladores de Newton de primeiro a quarto graus. Escolha seus pontos base para obter uma boa acurácia. O que seus resultados indicam em relação ao grau do polinômio usado para gerar os resultados da tabela? (ok)\n"
      ],
      "metadata": {
        "id": "qYba1Kz-vMM1"
      }
    },
    {
      "cell_type": "code",
      "source": [
        "x0 = 4\n",
        "\n",
        "x1 = np.array([3, 5])\n",
        "fx1 = np.array([19, 99])\n",
        "coefficients1 = divided_differences(x1, fx1)\n",
        "\n",
        "x2 = np.array([2, 3, 5])\n",
        "fx2 = np.array([6, 19, 99])\n",
        "coefficients2 = divided_differences(x2, fx2)\n",
        "\n",
        "x3 = np.array([2, 3, 5, 7]) #1, 2, 3, 5\n",
        "fx3 = np.array([6, 19, 99, 291]) # 3, 6, 19, 99\n",
        "coefficients3 = divided_differences(x3, fx3)\n",
        "\n",
        "x4 = np.array([2, 3, 5, 7, 8]) #1, 2, 3, 5, 7\n",
        "fx4 = np.array([6, 19, 99, 291, 444]) # 3, 6, 19, 99, 291\n",
        "coefficients4 = divided_differences(x4, fx4)\n",
        "\n",
        "f1 = newton_interpolation(x0, x1, coefficients1)\n",
        "f2 = newton_interpolation(x0, x2, coefficients2)\n",
        "f3 = newton_interpolation(x0, x3, coefficients3)\n",
        "f4 = newton_interpolation(x0, x4, coefficients4)\n",
        "\n",
        "print(f'Estimativa f({x0}) 1º grau: {f1}')\n",
        "print(f'Estimativa f({x0}) 2º grau: {f2}')\n",
        "print(f'Estimativa f({x0}) 3º grau: {f3}')\n",
        "print(f'Estimativa f({x0}) 4º grau: {f4}')"
      ],
      "metadata": {
        "colab": {
          "base_uri": "https://localhost:8080/"
        },
        "id": "pxw9dvvH93Nh",
        "outputId": "efc67d33-69aa-4653-e60c-24d86d89850e"
      },
      "execution_count": 28,
      "outputs": [
        {
          "output_type": "stream",
          "name": "stdout",
          "text": [
            "Estimativa f(4) 1º grau: 59.0\n",
            "Estimativa f(4) 2º grau: 50.0\n",
            "Estimativa f(4) 3º grau: 48.0\n",
            "Estimativa f(4) 4º grau: 48.0\n"
          ]
        }
      ]
    },
    {
      "cell_type": "markdown",
      "source": [
        "# 5) Repita os problemas 1 a 4, usando polinômios de Lagrange. Nas questões 3 e 4, use polinômios de Lagrange de primeiro a terceiro graus. (ok)\n"
      ],
      "metadata": {
        "id": "2pmRSHpqvSa3"
      }
    },
    {
      "cell_type": "markdown",
      "source": [
        "## 1)"
      ],
      "metadata": {
        "id": "ODH8sQ9W2DgD"
      }
    },
    {
      "cell_type": "code",
      "source": [
        "x0 = 10\n",
        "\n",
        "xa = np.array([8, 12])\n",
        "fxa = np.array([0.9030900, 1.0791812])\n",
        "log10a = lagrange_interpolation(10, xa, fxa)\n",
        "erroa = 100 * np.abs(np.log10(10) - log10a)/np.log10(10)\n",
        "\n",
        "xb = np.array([9, 11])\n",
        "fxb = np.array([0.9542425, 1.0413927])\n",
        "log10b = lagrange_interpolation(10, xb, fxb)\n",
        "errob = 100 * np.abs(np.log10(10) - log10b)/np.log10(10)\n",
        "\n",
        "print(f'Estimativa item a: {log10a} \\nErro %: {erroa}')\n",
        "print(f'Estimativa item a: {log10b} \\nErro %: {errob}')\n",
        "\n",
        "print(f'\\n')\n",
        "\n",
        "# polynomial_interpolation_a = lagrange(xa, fxa)\n",
        "# polynomial_interpolation_b = lagrange(xb, fxb)\n",
        "# print(f\"Para x = {x0}, y = {polynomial_interpolation_a(x0)}\")\n",
        "# print(f\"Para x = {x0}, y = {polynomial_interpolation_b(x0)}\")"
      ],
      "metadata": {
        "colab": {
          "base_uri": "https://localhost:8080/"
        },
        "id": "JrIwethH2TZm",
        "outputId": "4ee84a35-fe5a-4f41-d075-772b22a613e4"
      },
      "execution_count": 29,
      "outputs": [
        {
          "output_type": "stream",
          "name": "stdout",
          "text": [
            "Estimativa item a: 0.9911356 \n",
            "Erro %: 0.8864399999999995\n",
            "Estimativa item a: 0.9978176000000001 \n",
            "Erro %: 0.21823999999999177\n",
            "\n",
            "\n"
          ]
        }
      ]
    },
    {
      "cell_type": "markdown",
      "source": [
        "## 2)"
      ],
      "metadata": {
        "id": "AtfMLmrP2GnO"
      }
    },
    {
      "cell_type": "code",
      "source": [
        "x0 = 10\n",
        "x = np.array([8, 9, 11])\n",
        "fx = np.array([0.9030900, 0.9542425, 1.0413927])\n",
        "\n",
        "log10 = lagrange_interpolation(x0, x, fx)\n",
        "erro = np.abs(np.log10(10) - log10) / np.log10(10)\n",
        "\n",
        "print(f'Estimativa: {log10} \\nErro %: {erro}')\n",
        "\n",
        "print(f'\\n')\n",
        "\n",
        "# polynomial_interpolation_a = lagrange(xa, fxa)\n",
        "# print(f\"Para x = {x0}, y = {polynomial_interpolation_a(x0)}\")"
      ],
      "metadata": {
        "colab": {
          "base_uri": "https://localhost:8080/"
        },
        "id": "kHs44D-V5k34",
        "outputId": "eeea6ddc-338f-4829-f9b4-ac700d45d7a6"
      },
      "execution_count": 30,
      "outputs": [
        {
          "output_type": "stream",
          "name": "stdout",
          "text": [
            "Estimativa: 1.0003434 \n",
            "Erro %: 0.0003433999999999937\n",
            "\n",
            "\n"
          ]
        }
      ]
    },
    {
      "cell_type": "markdown",
      "source": [
        "## 3)"
      ],
      "metadata": {
        "id": "71fSsT-f2ILl"
      }
    },
    {
      "cell_type": "code",
      "source": [
        "x0 = 2.8\n",
        "\n",
        "x1 = np.array([2.5, 3.2])\n",
        "fx1 = np.array([14, 15])\n",
        "\n",
        "x2 = np.array([2, 2.5, 3.2])\n",
        "fx2 = np.array([8, 14, 15])\n",
        "\n",
        "x3 = np.array([2, 2.5, 3.2, 4])\n",
        "fx3 = np.array([8, 14, 15, 8])\n",
        "\n",
        "x4 = np.array([2, 2.5, 3.2, 4, 4.5])\n",
        "fx4 = np.array([8, 14, 15, 8, 2])\n",
        "\n",
        "f1 = lagrange_interpolation(x0, x1, fx1)\n",
        "f2 = lagrange_interpolation(x0, x2, fx2)\n",
        "f3 = lagrange_interpolation(x0, x3, fx3)\n",
        "f4 = lagrange_interpolation(x0, x4, fx4)\n",
        "\n",
        "print(f'Estimativa f({x0}) 1º grau: {f1}')\n",
        "print(f'Estimativa f({x0}) 2º grau: {f2}')\n",
        "print(f'Estimativa f({x0}) 3º grau: {f3}')\n",
        "\n",
        "r1 = f2 - f1\n",
        "r2 = f3 - f2\n",
        "r3 = f4 - f3\n",
        "\n",
        "print(f'Erro 1º grau: {r1}')\n",
        "print(f'Erro 2º grau: {r2}')\n",
        "print(f'Erro 3º grau: {r3}')\n",
        "\n",
        "print(f'\\n')\n",
        "\n",
        "\n",
        "# polynomial_interpolation_1 = lagrange(x1, fx1)\n",
        "# polynomial_interpolation_2 = lagrange(x2, fx2)\n",
        "# polynomial_interpolation_3 = lagrange(x3, fx3)\n",
        "# print(f\"Para x = {x0}, y = {polynomial_interpolation_1(x0)}\")\n",
        "# print(f\"Para x = {x0}, y = {polynomial_interpolation_2(x0)}\")\n",
        "# print(f\"Para x = {x0}, y = {polynomial_interpolation_3(x0)}\")"
      ],
      "metadata": {
        "colab": {
          "base_uri": "https://localhost:8080/"
        },
        "id": "q5CBw_uw6axD",
        "outputId": "efad1167-d0ca-4bd6-b549-6f4a98ae3610"
      },
      "execution_count": 31,
      "outputs": [
        {
          "output_type": "stream",
          "name": "stdout",
          "text": [
            "Estimativa f(2.8) 1º grau: 14.428571428571429\n",
            "Estimativa f(2.8) 2º grau: 15.485714285714288\n",
            "Estimativa f(2.8) 3º grau: 15.388571428571428\n",
            "Erro 1º grau: 1.0571428571428587\n",
            "Erro 2º grau: -0.09714285714285964\n",
            "Erro 3º grau: 0.05211428571428556\n",
            "\n",
            "\n"
          ]
        }
      ]
    },
    {
      "cell_type": "markdown",
      "source": [
        "## 4)"
      ],
      "metadata": {
        "id": "aHEFXkVJ2J6i"
      }
    },
    {
      "cell_type": "code",
      "source": [
        "x0 = 4\n",
        "\n",
        "x1 = np.array([3, 5])\n",
        "fx1 = np.array([19, 99])\n",
        "\n",
        "x2 = np.array([2, 3, 5])\n",
        "fx2 = np.array([6, 19, 99])\n",
        "\n",
        "x3 = np.array([2, 3, 5, 7]) #1, 2, 3, 5\n",
        "fx3 = np.array([6, 19, 99, 291]) # 3, 6, 19, 99\n",
        "\n",
        "x4 = np.array([2, 3, 5, 7, 8]) #1, 2, 3, 5, 7\n",
        "fx4 = np.array([6, 19, 99, 291, 444]) # 3, 6, 19, 99, 291\n",
        "\n",
        "f1 = lagrange_interpolation(x0, x1, fx1)\n",
        "f2 = lagrange_interpolation(x0, x2, fx2)\n",
        "f3 = lagrange_interpolation(x0, x3, fx3)\n",
        "f4 = lagrange_interpolation(x0, x4, fx4)\n",
        "\n",
        "print(f'Estimativa f({x0}) 1º grau: {f1}')\n",
        "print(f'Estimativa f({x0}) 2º grau: {f2}')\n",
        "print(f'Estimativa f({x0}) 3º grau: {f3}')\n",
        "print(f'Estimativa f({x0}) 4º grau: {f4}')\n",
        "\n",
        "\n",
        "print(f'\\n')\n",
        "\n",
        "\n",
        "# polynomial_interpolation_1 = lagrange(x1, fx1)\n",
        "# polynomial_interpolation_2 = lagrange(x2, fx2)\n",
        "# polynomial_interpolation_3 = lagrange(x3, fx3)\n",
        "# polynomial_interpolation_4 = lagrange(x4, fx4)\n",
        "# print(f\"Para x = {x0}, y = {polynomial_interpolation_1(x0)}\")\n",
        "# print(f\"Para x = {x0}, y = {polynomial_interpolation_2(x0)}\")\n",
        "# print(f\"Para x = {x0}, y = {polynomial_interpolation_3(x0)}\")\n",
        "# print(f\"Para x = {x0}, y = {polynomial_interpolation_4(x0)}\")"
      ],
      "metadata": {
        "colab": {
          "base_uri": "https://localhost:8080/"
        },
        "id": "qcNVsdB97lm5",
        "outputId": "a1b0a090-3895-4721-e516-0908fac49a7c"
      },
      "execution_count": 32,
      "outputs": [
        {
          "output_type": "stream",
          "name": "stdout",
          "text": [
            "Estimativa f(4) 1º grau: 59.0\n",
            "Estimativa f(4) 2º grau: 50.0\n",
            "Estimativa f(4) 3º grau: 48.0\n",
            "Estimativa f(4) 4º grau: 47.999999999999986\n",
            "\n",
            "\n"
          ]
        }
      ]
    },
    {
      "cell_type": "markdown",
      "source": [
        "# 6) Use interpolação inversa por um polinômio interpolador cúbico e bissecção para determinar o valor de x que corresponde a $f(x) = 0,23$ para os seguintes dados tabulados: (ok)\n",
        "\n",
        "$$\n",
        "\\begin{array}{|c|c|c|}\n",
        "\\hline\n",
        "\\text{x} & \\text{2} & \\text{3} & \\text{4} & \\text{5} & \\text{6} & \\text{7}\\\\\n",
        "\\hline\n",
        "\\text{f(x)} & \\text{0.5} & \\text{0,3333} & \\text{0,25} & \\text{0,2} & \\text{0,1667} & \\text{0,1429}\\\\\n",
        "\\hline\n",
        "\\end{array}\n",
        "$$"
      ],
      "metadata": {
        "id": "4dgTWbROv2ii"
      }
    },
    {
      "cell_type": "code",
      "source": [
        "fx0 = 0.23\n",
        "\n",
        "x = np.array([3, 4, 5, 6])\n",
        "fx = np.array([0.3333, 0.25, 0.2, 0.1667])\n",
        "\n",
        "x0 = inverse_interpolation(x, fx, fx0, 4, 5)\n",
        "print(f\"Valores de x correspondentes a y = {fx0}: {x0}\")\n",
        "print(1/x0)"
      ],
      "metadata": {
        "colab": {
          "base_uri": "https://localhost:8080/"
        },
        "id": "Vl82d0wy-NQG",
        "outputId": "f6fdf202-1b49-47d7-c31a-4d4c4bb62134"
      },
      "execution_count": 33,
      "outputs": [
        {
          "output_type": "stream",
          "name": "stdout",
          "text": [
            "Valores de x correspondentes a y = 0.23: 4.341788272618455\n",
            "0.2303198445457401\n"
          ]
        }
      ]
    },
    {
      "cell_type": "markdown",
      "source": [
        "# 7) Use interpolação inversa para determinar o valor de x que corresponde a $f(x) = 0,85$ para os seguintes dados tabulados:\n",
        "\n",
        "$$\n",
        "\\begin{array}{|c|c|c|}\n",
        "\\hline\n",
        "\\text{x} & \\text{0} & \\text{1} & \\text{2} & \\text{3} & \\text{4} & \\text{5}\\\\\n",
        "\\hline\n",
        "\\text{f(x)} & \\text{0} & \\text{0.333333} & \\text{0.8} & \\text{0.931034} & \\text{0.941176} & \\text{0.961538}\\\\\n",
        "\\hline\n",
        "\\end{array}\n",
        "$$\n",
        "\n",
        "# Observe que os valores na tabela foram gerados pela função $f(x)$ = $\\frac{x^3}{2+x^3}$\n",
        "\n",
        "# Para os itens (b) a (d), calcule o erro relativo percentual verdadeiro.\n"
      ],
      "metadata": {
        "id": "NxALa405wO02"
      }
    },
    {
      "cell_type": "markdown",
      "source": [
        "## (a) Determine o valor correto analiticamente;\n",
        "\n",
        "### (i) $f(x)$ = $\\frac{x^3}{2+x^3}$ → = $\\sqrt[3]{\\frac{2f(x)}{1-f(x)}}$\n",
        "### (ii) $f(x)$ = $0.85$ → $x$ = $2.24622136693$"
      ],
      "metadata": {
        "id": "bcbBAyFEw9wE"
      }
    },
    {
      "cell_type": "code",
      "source": [
        "def func(x):\n",
        "    return x**3 / (2 + x**3)\n",
        "\n",
        "def xfunc(fx):\n",
        "    return ((2 * fx) / (1 - fx)) ** (1/3)\n",
        "\n",
        "print(xfunc(fx=0.85))\n",
        "print(func(xfunc(fx=0.85)))"
      ],
      "metadata": {
        "colab": {
          "base_uri": "https://localhost:8080/"
        },
        "id": "BU6SBigZnRW8",
        "outputId": "40fb978e-9a72-4595-aab7-27dacff01feb"
      },
      "execution_count": 34,
      "outputs": [
        {
          "output_type": "stream",
          "name": "stdout",
          "text": [
            "2.246221366935111\n",
            "0.85\n"
          ]
        }
      ]
    },
    {
      "cell_type": "markdown",
      "source": [
        "## (b) Use interpolação cúbica de x em função de y;"
      ],
      "metadata": {
        "id": "PmP-w_QixCJm"
      }
    },
    {
      "cell_type": "code",
      "source": [
        "fx0 = 0.85\n",
        "\n",
        "x = np.array([2, 3, 4, 5])\n",
        "fx = np.array([0.8, 0.931034, 0.941176, 0.961538])\n",
        "\n",
        "x0 = inverse_interpolation(x, fx, fx0, 2, 3)\n",
        "print(f\"Valores de x correspondentes a y = {fx0}: {x0}\")\n",
        "\n",
        "y_est = x0**3 / (2 + x0**3)\n",
        "\n",
        "print(f'erro % = {100 * np.abs((y_est - fx0) / fx0)}')"
      ],
      "metadata": {
        "colab": {
          "base_uri": "https://localhost:8080/"
        },
        "id": "1boRt5zdMogC",
        "outputId": "362c7e75-402b-4e92-f9fe-27225abbc2d5"
      },
      "execution_count": 35,
      "outputs": [
        {
          "output_type": "stream",
          "name": "stdout",
          "text": [
            "Valores de x correspondentes a y = 0.85: 2.242870820866254\n",
            "erro % = 0.06727910020994997\n"
          ]
        }
      ]
    },
    {
      "cell_type": "code",
      "source": [
        "fx0 = 0.85\n",
        "\n",
        "fx = np.array([2, 3, 4, 5])\n",
        "x = np.array([0.8, 0.931034, 0.941176, 0.961538])\n",
        "\n",
        "x0 = inverse_interpolation(x, fx, fx0, 2, 3)\n",
        "print(f\"Valores de x correspondentes a y = {fx0}: {x0}\")\n",
        "\n",
        "y_est = x0**3 / (2 + x0**3)\n",
        "\n",
        "print(f'erro % = {100 * np.abs((y_est - fx0) / fx0)}')"
      ],
      "metadata": {
        "colab": {
          "base_uri": "https://localhost:8080/"
        },
        "id": "p7GcOv17QcYZ",
        "outputId": "e76b5f49-926c-40a6-8781-3e3f8677d616"
      },
      "execution_count": 36,
      "outputs": [
        {
          "output_type": "stream",
          "name": "stdout",
          "text": [
            "Valores de x correspondentes a y = 0.85: 3.0\n",
            "erro % = 9.533468559837727\n"
          ]
        }
      ]
    },
    {
      "cell_type": "markdown",
      "source": [
        "## (c) Use interpolação inversa com interpolação quadrática e a fórmula quadrática.\n"
      ],
      "metadata": {
        "id": "vzzty5kfxGTD"
      }
    },
    {
      "cell_type": "markdown",
      "source": [
        "## (d)  Use interpolação inversa com interpolação cúbica e bissecção."
      ],
      "metadata": {
        "id": "Ljb8WflxxJLi"
      }
    },
    {
      "cell_type": "code",
      "source": [
        "fx0 = 0.85\n",
        "\n",
        "x = np.array([2, 3, 4, 5])\n",
        "fx = np.array([0.8, 0.931034, 0.941176, 0.961538])\n",
        "\n",
        "x0 = inverse_interpolation(x, fx, fx0, 2, 3)\n",
        "print(f\"Valores de x correspondentes a y = {fx0}: {x0}\")\n",
        "\n",
        "y_est = x0**3 / (2 + x0**3)\n",
        "\n",
        "print(f'erro % = {100 * np.abs((y_est - fx0) / fx0)}')"
      ],
      "metadata": {
        "colab": {
          "base_uri": "https://localhost:8080/"
        },
        "id": "bZZjXO8yo4rx",
        "outputId": "dd8e663f-0556-4c6f-d150-13c89da0a8a3"
      },
      "execution_count": 37,
      "outputs": [
        {
          "output_type": "stream",
          "name": "stdout",
          "text": [
            "Valores de x correspondentes a y = 0.85: 2.242870820866254\n",
            "erro % = 0.06727910020994997\n"
          ]
        }
      ]
    }
  ]
}