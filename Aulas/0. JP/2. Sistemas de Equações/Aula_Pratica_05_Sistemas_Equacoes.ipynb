{
 "cells": [
  {
   "cell_type": "code",
   "execution_count": 1,
   "id": "1b50e5d0",
   "metadata": {},
   "outputs": [],
   "source": [
    "import numpy as np\n",
    "import math\n",
    "import matplotlib.pyplot as plt"
   ]
  },
  {
   "cell_type": "code",
   "execution_count": 2,
   "id": "e3ece8ce",
   "metadata": {},
   "outputs": [
    {
     "name": "stdout",
     "output_type": "stream",
     "text": [
      "Fornecer a ordem do sistema de equações: 4\n"
     ]
    }
   ],
   "source": [
    "ordem = int(input('Fornecer a ordem do sistema de equações: '))\n",
    "A = np.zeros([ordem,ordem],dtype='float')\n",
    "B = np.zeros([ordem,1],dtype='float')"
   ]
  },
  {
   "cell_type": "code",
   "execution_count": 3,
   "id": "975d8262",
   "metadata": {},
   "outputs": [
    {
     "name": "stdout",
     "output_type": "stream",
     "text": [
      "Elemento de pos. (1,1) da matriz A: 2\n",
      "Elemento de pos. (1,2) da matriz A: 0\n",
      "Elemento de pos. (1,3) da matriz A: 0\n",
      "Elemento de pos. (1,4) da matriz A: 0\n",
      "Elemento de pos. (2,1) da matriz A: 3\n",
      "Elemento de pos. (2,2) da matriz A: 5\n",
      "Elemento de pos. (2,3) da matriz A: 0\n",
      "Elemento de pos. (2,4) da matriz A: 0\n",
      "Elemento de pos. (3,1) da matriz A: 1\n",
      "Elemento de pos. (3,2) da matriz A: -6\n",
      "Elemento de pos. (3,3) da matriz A: 8\n",
      "Elemento de pos. (3,4) da matriz A: 0\n",
      "Elemento de pos. (4,1) da matriz A: -1\n",
      "Elemento de pos. (4,2) da matriz A: 4\n",
      "Elemento de pos. (4,3) da matriz A: -3\n",
      "Elemento de pos. (4,4) da matriz A: 9\n",
      "Elemento de pos. 1 do vetor B: 4\n",
      "Elemento de pos. 2 do vetor B: 1\n",
      "Elemento de pos. 3 do vetor B: 48\n",
      "Elemento de pos. 4 do vetor B: 6\n",
      "[[ 2.  0.  0.  0.]\n",
      " [ 3.  5.  0.  0.]\n",
      " [ 1. -6.  8.  0.]\n",
      " [-1.  4. -3.  9.]] [[ 4.]\n",
      " [ 1.]\n",
      " [48.]\n",
      " [ 6.]]\n"
     ]
    }
   ],
   "source": [
    "for i in range(0,ordem):\n",
    "    for j in range(0,ordem):\n",
    "        A[i,j] = float(input('Elemento de pos. (%d,%d) da matriz A: ' %(i+1,j+1)))\n",
    "        \n",
    "\n",
    "for i in range(0,ordem):\n",
    "    B[i] = float(input('Elemento de pos. %d do vetor B: ' %(i+1)))\n",
    "    \n",
    "print(A,B)\n",
    "        "
   ]
  },
  {
   "cell_type": "code",
   "execution_count": 4,
   "id": "1f89baa1",
   "metadata": {},
   "outputs": [
    {
     "data": {
      "text/plain": [
       "4"
      ]
     },
     "execution_count": 4,
     "metadata": {},
     "output_type": "execute_result"
    }
   ],
   "source": [
    "len(A)"
   ]
  },
  {
   "cell_type": "code",
   "execution_count": 5,
   "id": "91400fc9",
   "metadata": {},
   "outputs": [],
   "source": [
    "def calcula_sol_mti(A,B):\n",
    "    xr = np.zeros([len(A),1],dtype='float')\n",
    "    idr = 0\n",
    "    while idr < len(A):\n",
    "        z = 0\n",
    "        soma = 0\n",
    "        while z < idr:\n",
    "            soma = soma+A[idr,z]*xr[z]\n",
    "            z=z+1\n",
    "            \n",
    "        xr[idr] = (B[idr]-soma)/A[idr,idr]\n",
    "        idr=idr+1\n",
    "        \n",
    "    return(xr)\n",
    "            \n",
    "    "
   ]
  },
  {
   "cell_type": "code",
   "execution_count": 6,
   "id": "6f7353e3",
   "metadata": {},
   "outputs": [
    {
     "name": "stdout",
     "output_type": "stream",
     "text": [
      "[[ 2.]\n",
      " [-1.]\n",
      " [ 5.]\n",
      " [ 3.]]\n"
     ]
    }
   ],
   "source": [
    "xr = calcula_sol_mti(A,B)\n",
    "print(xr)"
   ]
  },
  {
   "cell_type": "code",
   "execution_count": 7,
   "id": "82d2ce90",
   "metadata": {},
   "outputs": [
    {
     "name": "stdout",
     "output_type": "stream",
     "text": [
      "Fornecer a ordem do sistema de equações: 4\n"
     ]
    }
   ],
   "source": [
    "ordem = int(input('Fornecer a ordem do sistema de equações: '))\n",
    "A = np.zeros([ordem,ordem],dtype='float')\n",
    "B = np.zeros([ordem,1],dtype='float')"
   ]
  },
  {
   "cell_type": "code",
   "execution_count": 8,
   "id": "ecd27078",
   "metadata": {},
   "outputs": [
    {
     "name": "stdout",
     "output_type": "stream",
     "text": [
      "Elemento de pos. (1,1) da matriz A: 5\n",
      "Elemento de pos. (1,2) da matriz A: -2\n",
      "Elemento de pos. (1,3) da matriz A: 6\n",
      "Elemento de pos. (1,4) da matriz A: 1\n",
      "Elemento de pos. (2,1) da matriz A: 0\n",
      "Elemento de pos. (2,2) da matriz A: 3\n",
      "Elemento de pos. (2,3) da matriz A: 7\n",
      "Elemento de pos. (2,4) da matriz A: -4\n",
      "Elemento de pos. (3,1) da matriz A: 0\n",
      "Elemento de pos. (3,2) da matriz A: 0\n",
      "Elemento de pos. (3,3) da matriz A: 4\n",
      "Elemento de pos. (3,4) da matriz A: 5\n",
      "Elemento de pos. (4,1) da matriz A: 0\n",
      "Elemento de pos. (4,2) da matriz A: 0\n",
      "Elemento de pos. (4,3) da matriz A: 0\n",
      "Elemento de pos. (4,4) da matriz A: 2\n",
      "Elemento de pos. 1 do vetor B: 1\n",
      "Elemento de pos. 2 do vetor B: -2\n",
      "Elemento de pos. 3 do vetor B: 28\n",
      "Elemento de pos. 4 do vetor B: 8\n",
      "[[ 5. -2.  6.  1.]\n",
      " [ 0.  3.  7. -4.]\n",
      " [ 0.  0.  4.  5.]\n",
      " [ 0.  0.  0.  2.]] [[ 1.]\n",
      " [-2.]\n",
      " [28.]\n",
      " [ 8.]]\n"
     ]
    }
   ],
   "source": [
    "for i in range(0,ordem):\n",
    "    for j in range(0,ordem):\n",
    "        A[i,j] = float(input('Elemento de pos. (%d,%d) da matriz A: ' %(i+1,j+1)))\n",
    "        \n",
    "\n",
    "for i in range(0,ordem):\n",
    "    B[i] = float(input('Elemento de pos. %d do vetor B: ' %(i+1)))\n",
    "    \n",
    "print(A,B)"
   ]
  },
  {
   "cell_type": "code",
   "execution_count": 9,
   "id": "5ed165d0",
   "metadata": {},
   "outputs": [],
   "source": [
    "def calcula_sol_mts(A,B):\n",
    "    xr = np.zeros([len(A),1],dtype='float')\n",
    "    idr = len(A)-1\n",
    "    while idr >= 0:\n",
    "        z = idr+1\n",
    "        soma = 0\n",
    "        while z < len(A):\n",
    "            soma = soma+A[idr,z]*xr[z]\n",
    "            z=z+1\n",
    "            \n",
    "        xr[idr] = (B[idr]-soma)/A[idr,idr]\n",
    "        idr=idr-1\n",
    "        \n",
    "    return(xr)"
   ]
  },
  {
   "cell_type": "code",
   "execution_count": 10,
   "id": "5753fe75",
   "metadata": {},
   "outputs": [
    {
     "name": "stdout",
     "output_type": "stream",
     "text": [
      "[[-3.]\n",
      " [ 0.]\n",
      " [ 2.]\n",
      " [ 4.]]\n"
     ]
    }
   ],
   "source": [
    "xr = calcula_sol_mts(A,B)\n",
    "print(xr)"
   ]
  },
  {
   "cell_type": "code",
   "execution_count": 13,
   "id": "157e5a99",
   "metadata": {},
   "outputs": [],
   "source": [
    "def elimina_gauss(A,B):\n",
    "    Ac = np.copy(A)\n",
    "    Bc = np.copy(B)\n",
    "    for i in range(0,len(Ac)-1):\n",
    "        pivo = Ac[i,i]\n",
    "        for j in range(i+1,len(Ac)):\n",
    "            \n",
    "            m = (-1)*Ac[j,i]/Ac[i,i]\n",
    "            Ac[j,:] = Ac[i,:]*m + Ac[j,:]\n",
    "            Bc[j] = Bc[i]*m + Bc[j]\n",
    "            \n",
    "    return(Ac,Bc)\n",
    "            "
   ]
  },
  {
   "cell_type": "code",
   "execution_count": 12,
   "id": "16e167a7",
   "metadata": {},
   "outputs": [
    {
     "name": "stdout",
     "output_type": "stream",
     "text": [
      "Fornecer a ordem do sistema de equações: 3\n"
     ]
    }
   ],
   "source": [
    "ordem = int(input('Fornecer a ordem do sistema de equações: '))\n",
    "A = np.zeros([ordem,ordem],dtype='float')\n",
    "B = np.zeros([ordem,1],dtype='float')"
   ]
  },
  {
   "cell_type": "code",
   "execution_count": 14,
   "id": "a7184ba6",
   "metadata": {},
   "outputs": [
    {
     "name": "stdout",
     "output_type": "stream",
     "text": [
      "Elemento de pos. (1,1) da matriz A: 1\n",
      "Elemento de pos. (1,2) da matriz A: -3\n",
      "Elemento de pos. (1,3) da matriz A: 2\n",
      "Elemento de pos. (2,1) da matriz A: -2\n",
      "Elemento de pos. (2,2) da matriz A: 8\n",
      "Elemento de pos. (2,3) da matriz A: -1\n",
      "Elemento de pos. (3,1) da matriz A: 4\n",
      "Elemento de pos. (3,2) da matriz A: -6\n",
      "Elemento de pos. (3,3) da matriz A: 5\n",
      "Elemento de pos. 1 do vetor B: 11\n",
      "Elemento de pos. 2 do vetor B: -15\n",
      "Elemento de pos. 3 do vetor B: 29\n",
      "[[ 1. -3.  2.]\n",
      " [-2.  8. -1.]\n",
      " [ 4. -6.  5.]]\n",
      "[[ 11.]\n",
      " [-15.]\n",
      " [ 29.]]\n"
     ]
    }
   ],
   "source": [
    "for i in range(0,ordem):\n",
    "    for j in range(0,ordem):\n",
    "        A[i,j] = float(input('Elemento de pos. (%d,%d) da matriz A: ' %(i+1,j+1)))\n",
    "        \n",
    "\n",
    "for i in range(0,ordem):\n",
    "    B[i] = float(input('Elemento de pos. %d do vetor B: ' %(i+1)))\n",
    "    \n",
    "print(A)\n",
    "print(B)"
   ]
  },
  {
   "cell_type": "code",
   "execution_count": 15,
   "id": "7d150d67",
   "metadata": {},
   "outputs": [
    {
     "name": "stdout",
     "output_type": "stream",
     "text": [
      "[[  1.  -3.   2.]\n",
      " [  0.   2.   3.]\n",
      " [  0.   0. -12.]]\n",
      "[[ 11.]\n",
      " [  7.]\n",
      " [-36.]]\n"
     ]
    }
   ],
   "source": [
    "[At,Bt] = elimina_gauss(A,B)\n",
    "print(At)\n",
    "print(Bt)"
   ]
  },
  {
   "cell_type": "code",
   "execution_count": 16,
   "id": "36d0cb90",
   "metadata": {},
   "outputs": [
    {
     "name": "stdout",
     "output_type": "stream",
     "text": [
      "[[ 2.]\n",
      " [-1.]\n",
      " [ 3.]]\n"
     ]
    }
   ],
   "source": [
    "xr = calcula_sol_mts(At,Bt)\n",
    "print(xr)"
   ]
  },
  {
   "cell_type": "code",
   "execution_count": 17,
   "id": "33963bfa",
   "metadata": {},
   "outputs": [
    {
     "name": "stdout",
     "output_type": "stream",
     "text": [
      "[[0.]\n",
      " [0.]\n",
      " [0.]]\n"
     ]
    }
   ],
   "source": [
    "#Cálculo do resíduo:\n",
    "r = B - A@xr\n",
    "print(r)"
   ]
  },
  {
   "cell_type": "code",
   "execution_count": 18,
   "id": "0ae70cf2",
   "metadata": {},
   "outputs": [],
   "source": [
    "def calcula_determinante(A):\n",
    "    Ac = np.copy(A)\n",
    "   \n",
    "    for i in range(0,len(Ac)-1):\n",
    "        pivo = Ac[i,i]\n",
    "        for j in range(i+1,len(Ac)):\n",
    "            \n",
    "            m = (-1)*Ac[j,i]/Ac[i,i]\n",
    "            Ac[j,:] = Ac[i,:]*m + Ac[j,:]\n",
    "            \n",
    "            \n",
    "    det = 1\n",
    "    for i in range (0,len(Ac)):\n",
    "        det = det*Ac[i,i]\n",
    "    \n",
    "    return det\n",
    "    \n",
    "    \n",
    "    "
   ]
  },
  {
   "cell_type": "code",
   "execution_count": 19,
   "id": "b6aa5512",
   "metadata": {},
   "outputs": [
    {
     "name": "stdout",
     "output_type": "stream",
     "text": [
      "Fornecer a ordem do sistema de equações: 4\n"
     ]
    }
   ],
   "source": [
    "ordem = int(input('Fornecer a ordem do sistema de equações: '))\n",
    "A = np.zeros([ordem,ordem],dtype='float')"
   ]
  },
  {
   "cell_type": "code",
   "execution_count": 20,
   "id": "2ec08ad0",
   "metadata": {},
   "outputs": [
    {
     "name": "stdout",
     "output_type": "stream",
     "text": [
      "Elemento de pos. (1,1) da matriz A: 6\n",
      "Elemento de pos. (1,2) da matriz A: -2\n",
      "Elemento de pos. (1,3) da matriz A: 2\n",
      "Elemento de pos. (1,4) da matriz A: 4\n",
      "Elemento de pos. (2,1) da matriz A: 12\n",
      "Elemento de pos. (2,2) da matriz A: -8\n",
      "Elemento de pos. (2,3) da matriz A: 6\n",
      "Elemento de pos. (2,4) da matriz A: 10\n",
      "Elemento de pos. (3,1) da matriz A: 3\n",
      "Elemento de pos. (3,2) da matriz A: -13\n",
      "Elemento de pos. (3,3) da matriz A: 9\n",
      "Elemento de pos. (3,4) da matriz A: 3\n",
      "Elemento de pos. (4,1) da matriz A: -6\n",
      "Elemento de pos. (4,2) da matriz A: 4\n",
      "Elemento de pos. (4,3) da matriz A: 1\n",
      "Elemento de pos. (4,4) da matriz A: -18\n"
     ]
    }
   ],
   "source": [
    "for i in range(0,ordem):\n",
    "    for j in range(0,ordem):\n",
    "        A[i,j] = float(input('Elemento de pos. (%d,%d) da matriz A: ' %(i+1,j+1)))"
   ]
  },
  {
   "cell_type": "code",
   "execution_count": 21,
   "id": "ac00c25c",
   "metadata": {},
   "outputs": [
    {
     "name": "stdout",
     "output_type": "stream",
     "text": [
      "[[  6.  -2.   2.   4.]\n",
      " [ 12.  -8.   6.  10.]\n",
      " [  3. -13.   9.   3.]\n",
      " [ -6.   4.   1. -18.]]\n"
     ]
    }
   ],
   "source": [
    "print(A)"
   ]
  },
  {
   "cell_type": "code",
   "execution_count": 22,
   "id": "35aa26cf",
   "metadata": {},
   "outputs": [
    {
     "name": "stdout",
     "output_type": "stream",
     "text": [
      "144.0\n"
     ]
    }
   ],
   "source": [
    "det = calcula_determinante(A)\n",
    "print(det)"
   ]
  },
  {
   "cell_type": "code",
   "execution_count": 24,
   "id": "2def224d",
   "metadata": {},
   "outputs": [
    {
     "data": {
      "text/plain": [
       "144.0"
      ]
     },
     "execution_count": 24,
     "metadata": {},
     "output_type": "execute_result"
    }
   ],
   "source": [
    "np.linalg.det(A)"
   ]
  },
  {
   "cell_type": "code",
   "execution_count": null,
   "id": "fee6de53",
   "metadata": {},
   "outputs": [],
   "source": []
  }
 ],
 "metadata": {
  "kernelspec": {
   "display_name": "Python 3 (ipykernel)",
   "language": "python",
   "name": "python3"
  },
  "language_info": {
   "codemirror_mode": {
    "name": "ipython",
    "version": 3
   },
   "file_extension": ".py",
   "mimetype": "text/x-python",
   "name": "python",
   "nbconvert_exporter": "python",
   "pygments_lexer": "ipython3",
   "version": "3.9.12"
  }
 },
 "nbformat": 4,
 "nbformat_minor": 5
}
