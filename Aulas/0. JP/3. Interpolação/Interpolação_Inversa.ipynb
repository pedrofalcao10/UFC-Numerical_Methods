{
 "cells": [
  {
   "cell_type": "code",
   "execution_count": 1,
   "metadata": {},
   "outputs": [],
   "source": [
    "import numpy as np\n",
    "import matplotlib.pyplot as plt\n",
    "import math"
   ]
  },
  {
   "cell_type": "code",
   "execution_count": 62,
   "metadata": {},
   "outputs": [
    {
     "name": "stdout",
     "output_type": "stream",
     "text": [
      "Forneça a quantidade de pontos dados: 4\n",
      "Forneça cada valor de xi: -40\n",
      "Forneça cada valor de xi: 0\n",
      "Forneça cada valor de xi: 20\n",
      "Forneça cada valor de xi: 50\n",
      "[[-40.0], [0.0], [20.0], [50.0]]\n",
      "Forneça cada valor de yi: 1.52\n",
      "Forneça cada valor de yi: 1.29\n",
      "Forneça cada valor de yi: 1.2\n",
      "Forneça cada valor de yi: 1.09\n",
      "[[1.52], [1.29], [1.2], [1.09]]\n"
     ]
    }
   ],
   "source": [
    "npontos=int(input('Forneça a quantidade de pontos dados: '))\n",
    "ordem=npontos\n",
    "ii=np.linspace(0,ordem-1,ordem)\n",
    "xi=[]\n",
    "vector=[]\n",
    "for i in ii:\n",
    "    c=float(input('Forneça cada valor de xi: '))\n",
    "    vector.append(c)\n",
    "    xi.append(vector)\n",
    "    vector=[]\n",
    "print (xi)\n",
    "yi=[]\n",
    "vector=[]\n",
    "for i in ii:\n",
    "    c=float(input('Forneça cada valor de yi: '))\n",
    "    vector.append(c)\n",
    "    yi.append(vector)\n",
    "    vector=[]\n",
    "print (yi)"
   ]
  },
  {
   "cell_type": "code",
   "execution_count": 63,
   "metadata": {},
   "outputs": [],
   "source": [
    "def gera_diferencas_divididas(npontos,xi,yi):\n",
    "    xi=np.array(xi)\n",
    "    yi=np.array(yi)\n",
    "    dif_div=np.zeros((npontos,npontos+1))\n",
    "    k=0\n",
    "    while k < npontos:\n",
    "        dif_div[k,0]=xi[k]\n",
    "        k=k+1\n",
    "    k=0\n",
    "    while k < npontos:\n",
    "        dif_div[k,1]=yi[k]\n",
    "        k=k+1\n",
    "    col=2\n",
    "    while col<npontos+1:\n",
    "        k=0\n",
    "        while k < npontos - col+1:\n",
    "            dif_div[k,col]=(dif_div[k+1,col-1]-dif_div[k,col-1])/(dif_div[(k+col-1),0]-dif_div[k,0])\n",
    "            k=k+1\n",
    "        col=col+1\n",
    "    return dif_div"
   ]
  },
  {
   "cell_type": "code",
   "execution_count": 64,
   "metadata": {},
   "outputs": [],
   "source": [
    "matriz_Newton=gera_diferencas_divididas(npontos,xi,yi)"
   ]
  },
  {
   "cell_type": "code",
   "execution_count": 65,
   "metadata": {},
   "outputs": [
    {
     "data": {
      "text/plain": [
       "[<matplotlib.lines.Line2D at 0x1523a73af48>]"
      ]
     },
     "execution_count": 65,
     "metadata": {},
     "output_type": "execute_result"
    },
    {
     "data": {
      "image/png": "[encoded data removed]",
      "text/plain": [
       "<Figure size 432x288 with 1 Axes>"
      ]
     },
     "metadata": {
      "needs_background": "light"
     },
     "output_type": "display_data"
    }
   ],
   "source": [
    "xx=np.linspace(min(xi),max(xi),1000)\n",
    "yy=[]\n",
    "for x in xx:\n",
    "    soma=matriz_Newton[0,1]\n",
    "    k=1\n",
    "    z=0\n",
    "    p=1\n",
    "    while k < npontos:\n",
    "        \n",
    "        while z < k:\n",
    "            p=p*(x-matriz_Newton[z,0])   \n",
    "            z=z+1\n",
    "        soma=soma+p*matriz_Newton[0,k+1] \n",
    "        k=k+1\n",
    "    yy.append(soma)  \n",
    "plt.plot(xx, yy, label=\"Polinomio Interpolador\")\n",
    "plt.plot(xi, yi, 'o', label=\"Pontos dados\")"
   ]
  },
  {
   "cell_type": "code",
   "execution_count": 66,
   "metadata": {},
   "outputs": [],
   "source": [
    "def gera_estimativa_f(win):\n",
    "    soma=matriz_Newton[0,1]\n",
    "    k=1\n",
    "    z=0\n",
    "    p=1\n",
    "    while k < npontos:\n",
    "        \n",
    "        while z < k:\n",
    "            p=p*(win-matriz_Newton[z,0])   \n",
    "            z=z+1\n",
    "        soma=soma+p*matriz_Newton[0,k+1] \n",
    "        k=k+1\n",
    "    return soma"
   ]
  },
  {
   "cell_type": "code",
   "execution_count": 67,
   "metadata": {},
   "outputs": [],
   "source": [
    "# Obter z tal que f(z) = 2 => g(z) = f(z)-2 => Raiz de g(z)\n",
    "def g(x):\n",
    "    return gera_estimativa_f(x)-1.45"
   ]
  },
  {
   "cell_type": "code",
   "execution_count": 68,
   "metadata": {},
   "outputs": [],
   "source": [
    "def falsa_posicao(a,b,epsilon,maxiter=50):\n",
    "    fxa=g(a)\n",
    "    fxb=g(b)\n",
    "    xra = a\n",
    "    xr=(a*fxb-b*fxa)/(fxb-fxa)\n",
    "    fxr=g(xr)\n",
    "    niter=1\n",
    "    erro = abs((xr-xra)/xr)\n",
    "    xra = xr\n",
    "    verro = []\n",
    "    verro.append(erro)\n",
    "    while niter < maxiter and erro > epsilon:\n",
    "        if fxa*fxr > 0 and fxb*fxr > 0:\n",
    "            print(\"Escolha incorreta das estimativas\")\n",
    "            return 0\n",
    "        if fxa*fxr < 0:\n",
    "            b=xr\n",
    "            fxb=g(b)\n",
    "            xr=(a*fxb-b*fxa)/(fxb-fxa)\n",
    "            print(xr)\n",
    "            fxr=g(xr)\n",
    "            erro = abs((xr-xra)/xr)\n",
    "            xra = xr\n",
    "            verro.append(erro)\n",
    "            niter=niter+1\n",
    "        else:\n",
    "            if fxr == 0:\n",
    "                return xr\n",
    "            a=xr\n",
    "            fxa=g(a)\n",
    "            xr=(a*fxb-b*fxa)/(fxb-fxa)\n",
    "            print(xr)\n",
    "            fxr=g(xr)\n",
    "            erro = abs((xr-xra)/xr)\n",
    "            xra=xr\n",
    "            verro.append(erro)\n",
    "            niter=niter+1\n",
    "    return xr     "
   ]
  },
  {
   "cell_type": "code",
   "execution_count": 48,
   "metadata": {},
   "outputs": [
    {
     "name": "stdout",
     "output_type": "stream",
     "text": [
      "-28.941041785918717\n",
      "-28.9814766148833\n",
      "-28.982937464615723\n",
      "-28.982990235675615\n",
      "-28.982990235675615\n"
     ]
    }
   ],
   "source": [
    "xr2 = falsa_posicao(-40,0,1e-5,maxiter=50)\n",
    "print(xr2)"
   ]
  },
  {
   "cell_type": "code",
   "execution_count": 39,
   "metadata": {},
   "outputs": [
    {
     "data": {
      "text/plain": [
       "0.6950640886711226"
      ]
     },
     "execution_count": 39,
     "metadata": {},
     "output_type": "execute_result"
    }
   ],
   "source": [
    "xr2"
   ]
  },
  {
   "cell_type": "code",
   "execution_count": 54,
   "metadata": {},
   "outputs": [
    {
     "data": {
      "text/plain": [
       "-29.51690821256037"
      ]
     },
     "execution_count": 54,
     "metadata": {},
     "output_type": "execute_result"
    }
   ],
   "source": [
    "gera_estimativa_f(1.45)"
   ]
  },
  {
   "cell_type": "code",
   "execution_count": 60,
   "metadata": {},
   "outputs": [
    {
     "data": {
      "text/plain": [
       "-28.855593344976523"
      ]
     },
     "execution_count": 60,
     "metadata": {},
     "output_type": "execute_result"
    }
   ],
   "source": [
    "gera_estimativa_f(1.45)"
   ]
  },
  {
   "cell_type": "code",
   "execution_count": 61,
   "metadata": {},
   "outputs": [
    {
     "data": {
      "text/plain": [
       "-0.022918082455544997"
      ]
     },
     "execution_count": 61,
     "metadata": {},
     "output_type": "execute_result"
    }
   ],
   "source": [
    "(-28.855593344976523-(-29.51690821256037))/(-28.855593344976523)"
   ]
  },
  {
   "cell_type": "code",
   "execution_count": 69,
   "metadata": {},
   "outputs": [
    {
     "name": "stdout",
     "output_type": "stream",
     "text": [
      "-29.047649041897948\n",
      "-29.098472593005482\n",
      "-29.10058198828651\n",
      "-29.100669528364243\n",
      "-29.100669528364243\n"
     ]
    }
   ],
   "source": [
    "xr2 = falsa_posicao(-40,0,1e-5,maxiter=50)\n",
    "print(xr2)"
   ]
  },
  {
   "cell_type": "code",
   "execution_count": 70,
   "metadata": {},
   "outputs": [
    {
     "data": {
      "text/plain": [
       "0.004043868907343406"
      ]
     },
     "execution_count": 70,
     "metadata": {},
     "output_type": "execute_result"
    }
   ],
   "source": [
    "(-29.100669528364243 - (-28.982990235675615))/(-29.100669528364243)"
   ]
  },
  {
   "cell_type": "code",
   "execution_count": null,
   "metadata": {},
   "outputs": [],
   "source": []
  }
 ],
 "metadata": {
  "kernelspec": {
   "display_name": "Python 3 (ipykernel)",
   "language": "python",
   "name": "python3"
  },
  "language_info": {
   "codemirror_mode": {
    "name": "ipython",
    "version": 3
   },
   "file_extension": ".py",
   "mimetype": "text/x-python",
   "name": "python",
   "nbconvert_exporter": "python",
   "pygments_lexer": "ipython3",
   "version": "3.9.12"
  }
 },
 "nbformat": 4,
 "nbformat_minor": 4
}
