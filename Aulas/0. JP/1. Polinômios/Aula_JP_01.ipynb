{
 "cells": [
  {
   "cell_type": "code",
   "execution_count": 2,
   "id": "9e18f0e9",
   "metadata": {},
   "outputs": [],
   "source": [
    "import matplotlib.pyplot as plt"
   ]
  },
  {
   "cell_type": "code",
   "execution_count": 20,
   "id": "3754b00d",
   "metadata": {},
   "outputs": [
    {
     "name": "stdout",
     "output_type": "stream",
     "text": [
      "[0.3333333333333333]\n",
      "[0.3333333333333333, 0.33333333333333326, 0.33333333333333304, 0.33333333333333215, 0.3333333333333286, 0.3333333333333144, 0.33333333333325754, 0.33333333333303017, 0.3333333333321207, 0.3333333333284827, 0.3333333333139308, 0.3333333332557231, 0.3333333330228925, 0.3333333320915699, 0.3333333283662796, 0.3333333134651184, 0.33333325386047363, 0.33333301544189453, 0.3333320617675781, 0.3333282470703125, 0.33331298828125, 0.333251953125, 0.3330078125, 0.33203125, 0.328125, 0.3125, 0.25, 0.0, -1.0, -5.0, -21.0, -85.0, -341.0, -1365.0, -5461.0, -21845.0, -87381.0, -349525.0, -1398101.0, -5592405.0, -22369621.0, -89478485.0, -357913941.0, -1431655765.0, -5726623061.0, -22906492245.0, -91625968981.0, -366503875925.0, -1466015503701.0, -5864062014805.0, -23456248059221.0]\n"
     ]
    }
   ],
   "source": [
    "x = []\n",
    "x.append(1/3)\n",
    "print(x)\n",
    "for i in range(0,50):\n",
    "    termo = x[i]*4-1\n",
    "    \n",
    "    x.append(termo)\n",
    "print(x)"
   ]
  },
  {
   "cell_type": "code",
   "execution_count": 18,
   "id": "3bee0930",
   "metadata": {},
   "outputs": [
    {
     "data": {
      "text/plain": [
       "[<matplotlib.lines.Line2D at 0x1d694c7bdf0>]"
      ]
     },
     "execution_count": 18,
     "metadata": {},
     "output_type": "execute_result"
    },
    {
     "data": {
      "image/png": "[encoded data removed]",
      "text/plain": [
       "<Figure size 432x288 with 1 Axes>"
      ]
     },
     "metadata": {
      "needs_background": "light"
     },
     "output_type": "display_data"
    }
   ],
   "source": [
    "plt.plot(x, label=\"Análise de X\")"
   ]
  },
  {
   "cell_type": "code",
   "execution_count": null,
   "id": "e33fa1ef",
   "metadata": {},
   "outputs": [],
   "source": []
  }
 ],
 "metadata": {
  "kernelspec": {
   "display_name": "Python 3 (ipykernel)",
   "language": "python",
   "name": "python3"
  },
  "language_info": {
   "codemirror_mode": {
    "name": "ipython",
    "version": 3
   },
   "file_extension": ".py",
   "mimetype": "text/x-python",
   "name": "python",
   "nbconvert_exporter": "python",
   "pygments_lexer": "ipython3",
   "version": "3.9.12"
  }
 },
 "nbformat": 4,
 "nbformat_minor": 5
}
