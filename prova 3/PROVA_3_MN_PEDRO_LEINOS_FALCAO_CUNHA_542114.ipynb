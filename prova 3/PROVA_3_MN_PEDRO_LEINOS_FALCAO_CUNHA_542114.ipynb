{
 "cells": [
  {
   "cell_type": "code",
   "execution_count": null,
   "id": "c7703cd3",
   "metadata": {},
   "outputs": [],
   "source": [
    "import numpy as np\n",
    "import matplotlib.pyplot as plt"
   ]
  },
  {
   "cell_type": "markdown",
   "id": "93903eb8",
   "metadata": {},
   "source": [
    "# Aluno: Pedro Leinos Falcão Cunha\n",
    "# Matrícula: 542114"
   ]
  },
  {
   "cell_type": "markdown",
   "id": "e7fa8299",
   "metadata": {},
   "source": [
    "# Questão 3"
   ]
  },
  {
   "cell_type": "code",
   "execution_count": 130,
   "id": "e8563e6f",
   "metadata": {
    "scrolled": true
   },
   "outputs": [
    {
     "name": "stdout",
     "output_type": "stream",
     "text": [
      "mu em T = 7.5 ºC = 1.4068632289341518\n"
     ]
    },
    {
     "data": {
      "image/png": "[encoded data removed]",
      "text/plain": [
       "<Figure size 432x288 with 1 Axes>"
      ]
     },
     "metadata": {
      "needs_background": "light"
     },
     "output_type": "display_data"
    }
   ],
   "source": [
    "def lagrange_interpolation(x0, xroots, yroots):\n",
    "    n = len(xroots)\n",
    "    result = 0\n",
    "\n",
    "    for k in range(n):\n",
    "        prod = 1\n",
    "\n",
    "        for j in range(n):\n",
    "            if j != k:\n",
    "                prod *= (x0 - xroots[j]) / (xroots[k] - xroots[j])\n",
    "\n",
    "        result += yroots[k] * prod\n",
    "\n",
    "    return result\n",
    "\n",
    "\n",
    "T = [0, 5, 10, 20, 30, 40]\n",
    "mu = [1.787, 1.519, 1.307, 1.002, 0.7975, 0.6529]\n",
    "\n",
    "t0 = 7.5\n",
    "\n",
    "mu_t0 = lagrange_interpolation(t0, T, mu)\n",
    "\n",
    "print(f'mu em T = 7.5 ºC = {mu_t0}')\n",
    "\n",
    "t_s = np.linspace(T[0], T[-1], 1001)\n",
    "mu_s = lagrange_interpolation(t_s, T, mu)\n",
    "\n",
    "plt.plot(T, mu)\n",
    "plt.plot(t_s, mu_s)\n",
    "plt.xlabel('T')\n",
    "plt.ylabel('mu')\n",
    "plt.grid()\n",
    "plt.show()"
   ]
  },
  {
   "cell_type": "markdown",
   "id": "f52c493f",
   "metadata": {},
   "source": [
    "# Questão 4"
   ]
  },
  {
   "cell_type": "code",
   "execution_count": 150,
   "id": "81bd5a53",
   "metadata": {},
   "outputs": [
    {
     "name": "stdout",
     "output_type": "stream",
     "text": [
      "comprimento da pista (m) = 1188.1712962962963\n"
     ]
    }
   ],
   "source": [
    "def trapezium(x, y):\n",
    "    result = 0\n",
    "\n",
    "    for i in range(len(y) - 1):\n",
    "        result += (x[i + 1] - x[i]) / 2 * (y[i] + y[i + 1])\n",
    "\n",
    "    return result\n",
    "\n",
    "def simpson_13(x, y):\n",
    "    result = 0\n",
    "    X = np.c_[x[:-2:2], x[1:-1:2], x[2::2]]\n",
    "    Y = np.c_[y[:-2:2], y[1:-1:2], y[2::2]]\n",
    "\n",
    "    for xi, yi in zip(X, Y):\n",
    "        h = (xi[2] - xi[0]) / 2\n",
    "        result += (h / 3) * (yi[0] + 4 * yi[1] + yi[2])\n",
    "\n",
    "    return result\n",
    "\n",
    "def simpson_38(x, y):\n",
    "    result = 0\n",
    "    X = np.c_[x[:-3:3], x[1:-2:3], x[2:-1:3], x[3::3]]\n",
    "    Y = np.c_[y[:-3:3], y[1:-2:3], y[2:-1:3], y[3::3]]\n",
    "\n",
    "    for xi, yi in zip(X, Y):\n",
    "        h = (xi[3] - xi[0]) / 3\n",
    "        result += (3 * h / 8) * (yi[0] + 3 * yi[1] + 3 * yi[2] + yi[3])\n",
    "\n",
    "    return result\n",
    "\n",
    "tempo = np.array([0, 0.5, 1, 1.5, 48, 48.5, 49, 59, 69, 79])\n",
    "veloc = np.array([62., 74., 73.5, 60.5, 49.5,  42.5, 39, 44.5, 58, 61.5]) / 3.6\n",
    "\n",
    "result = 0\n",
    "        \n",
    "tempo_trapz1 = np.array([0, 0.5, 1, 1.5, 48])\n",
    "veloc_trapz1 = np.array([62., 74., 73.5, 60.5, 49.5]) / 3.6\n",
    "tempo_trapz2 = np.array([48, 48.5, 49,])\n",
    "veloc_trapz2 = np.array([49.5,  42.5, 39]) / 3.6\n",
    "\n",
    "result += trapezium(tempo_trapz1, veloc_trapz1)\n",
    "result += trapezium(tempo_trapz2, veloc_trapz2)\n",
    "\n",
    "tempo_38 = np.array([1.5, 48])\n",
    "veloc_38 = np.array([60.5, 49.5]) / 3.6\n",
    "\n",
    "result += simpson_38(tempo_38, veloc_38)\n",
    "\n",
    "tempo_13 = np.array([48, 49, 59, 69, 79])\n",
    "veloc_13 = np.array([42.5, 39, 44.5, 58, 61.5]) / 3.6\n",
    "\n",
    "result += simpson_13(tempo_13, veloc_13)\n",
    "\n",
    "print(f'comprimento da pista (m) = {result}')"
   ]
  }
 ],
 "metadata": {
  "kernelspec": {
   "display_name": "Python 3 (ipykernel)",
   "language": "python",
   "name": "python3"
  },
  "language_info": {
   "codemirror_mode": {
    "name": "ipython",
    "version": 3
   },
   "file_extension": ".py",
   "mimetype": "text/x-python",
   "name": "python",
   "nbconvert_exporter": "python",
   "pygments_lexer": "ipython3",
   "version": "3.9.12"
  }
 },
 "nbformat": 4,
 "nbformat_minor": 5
}
