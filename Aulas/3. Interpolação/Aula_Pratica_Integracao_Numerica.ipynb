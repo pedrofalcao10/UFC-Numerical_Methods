{
 "cells": [
  {
   "cell_type": "code",
   "execution_count": 1,
   "id": "8b9887bd",
   "metadata": {},
   "outputs": [],
   "source": [
    "import numpy as np\n",
    "import matplotlib.pyplot as plt\n",
    "import math"
   ]
  },
  {
   "cell_type": "code",
   "execution_count": 2,
   "id": "7cb4361a",
   "metadata": {},
   "outputs": [],
   "source": [
    "def f(x):\n",
    "    return x/(x**2+1)\n",
    "    #return 1-x-4*(x**3)+2*(x**5)\n",
    "    #return math.exp(math.sin(x))\n",
    "    #return (math.sin(x))**(0.5)"
   ]
  },
  {
   "cell_type": "code",
   "execution_count": 22,
   "id": "58eca78d",
   "metadata": {},
   "outputs": [],
   "source": [
    "def trapezio_simples(a,b,f):\n",
    "    fa = f(a)\n",
    "    fb = f(b)\n",
    "    I = ((b-a)/2)*(fa+fb)\n",
    "    return I"
   ]
  },
  {
   "cell_type": "code",
   "execution_count": 6,
   "id": "3fcd12c0",
   "metadata": {},
   "outputs": [],
   "source": [
    "def simpson1_simples(a,b,f):\n",
    "    h = (b-a)/2\n",
    "    pm = a+h\n",
    "    fa = f(a)\n",
    "    fpm = f(pm)\n",
    "    fb = f(b)\n",
    "    I = (h/3)*(fa+4*fpm+fb)\n",
    "    return I"
   ]
  },
  {
   "cell_type": "code",
   "execution_count": 7,
   "id": "4f1bafd6",
   "metadata": {},
   "outputs": [],
   "source": [
    "def simpson2_simples(a,b,f):\n",
    "    h = (b-a)/3\n",
    "    pm1 = a+h\n",
    "    pm2 = pm1+h\n",
    "    fa = f(a)\n",
    "    fpm1 = f(pm1)\n",
    "    fpm2 = f(pm2)\n",
    "    fb = f(b)\n",
    "    I = (3*h/8)*(fa+3*fpm1+3*fpm2+fb)\n",
    "    return I"
   ]
  },
  {
   "cell_type": "code",
   "execution_count": 8,
   "id": "e8a64f6c",
   "metadata": {},
   "outputs": [
    {
     "name": "stdout",
     "output_type": "stream",
     "text": [
      "0.25\n",
      "0.35\n",
      "0.34807692307692306\n"
     ]
    }
   ],
   "source": [
    "I1 = trapezio_simples(0,1,f)\n",
    "print(I1)\n",
    "I2 = simpson1_simples(0,1,f)\n",
    "print(I2)\n",
    "I3 = simpson2_simples(0,1,f)\n",
    "print(I3)\n"
   ]
  },
  {
   "cell_type": "code",
   "execution_count": 24,
   "id": "0bce7f65",
   "metadata": {},
   "outputs": [],
   "source": [
    "## Calculando o erro da integração pelo método do Trapézio\n",
    "\n",
    "def calcula_erro_trapezio(a,b,f):\n",
    "    h = (b-a)/2\n",
    "    a0 = a\n",
    "    xi = []\n",
    "    yi = []\n",
    "    id = 1\n",
    "    xi.append(a)\n",
    "    yi.append(f(a))\n",
    "    while id <=2:\n",
    "        a = a+h\n",
    "        xi.append(a)\n",
    "        yi.append(f(a))\n",
    "        id = id+1\n",
    "    xi = np.array(xi)\n",
    "    yi = np.array(yi)\n",
    "    a = a0\n",
    "    Matriz_Newton = np.zeros([id,id+1])\n",
    "    for i in range(0,id):\n",
    "        Matriz_Newton[i,0] = xi[i]\n",
    "        Matriz_Newton[i,1] = yi[i]\n",
    "        \n",
    "    for i in range(2,id+1):\n",
    "        for j in range(0,id-i+1):\n",
    "            Matriz_Newton[j,i] = (Matriz_Newton[j+1,i-1]-Matriz_Newton[j,i-1])/(Matriz_Newton[j+i-1,0]-Matriz_Newton[j,0])\n",
    "    \n",
    "    Valor_Medio_Der_2 = Matriz_Newton[0,3]\n",
    "    Erro = (-1*((b-a)**3)/12)*Valor_Medio_Der_2\n",
    "    return(Matriz_Newton,Erro)\n",
    "\n",
    "\n",
    "   \n",
    "\n",
    "\n",
    "        \n",
    "    \n",
    "        \n",
    "        \n",
    "    "
   ]
  },
  {
   "cell_type": "code",
   "execution_count": 25,
   "id": "d31a71b6",
   "metadata": {},
   "outputs": [
    {
     "name": "stdout",
     "output_type": "stream",
     "text": [
      "[[ 0.   0.   0.8 -0.6]\n",
      " [ 0.5  0.4  0.2  0. ]\n",
      " [ 1.   0.5  0.   0. ]]\n",
      "0.05\n"
     ]
    }
   ],
   "source": [
    "[Matriz,Erro] = calcula_erro_trapezio(0,1,f)\n",
    "print(Matriz)\n",
    "print(Erro)"
   ]
  },
  {
   "cell_type": "code",
   "execution_count": 34,
   "id": "4812cbfb",
   "metadata": {},
   "outputs": [
    {
     "data": {
      "text/plain": [
       "[<matplotlib.lines.Line2D at 0x26c986a3df0>]"
      ]
     },
     "execution_count": 34,
     "metadata": {},
     "output_type": "execute_result"
    },
    {
     "data": {
      "image/png": "[encoded data removed]",
      "text/plain": [
       "<Figure size 432x288 with 1 Axes>"
      ]
     },
     "metadata": {
      "needs_background": "light"
     },
     "output_type": "display_data"
    }
   ],
   "source": [
    "xx=np.linspace(0,1,1000)\n",
    "yy=[]\n",
    "for xxi in xx:\n",
    "    yy.append(f(xxi))  \n",
    "plt.plot(xx, yy, label=\"Polinomio Interpolador\")\n"
   ]
  },
  {
   "cell_type": "code",
   "execution_count": 30,
   "id": "fcce6547",
   "metadata": {},
   "outputs": [],
   "source": [
    "## Calculando o erro da integração pelo método do Trapézio\n",
    "\n",
    "def calcula_erro_simpson1(a,b,f):\n",
    "    h = (b-a)/4\n",
    "    a0 = a\n",
    "    xi = []\n",
    "    yi = []\n",
    "    id = 1\n",
    "    xi.append(a)\n",
    "    yi.append(f(a))\n",
    "    while id <=4:\n",
    "        a = a+h\n",
    "        xi.append(a)\n",
    "        yi.append(f(a))\n",
    "        id = id+1\n",
    "    xi = np.array(xi)\n",
    "    yi = np.array(yi)\n",
    "    a = a0\n",
    "    Matriz_Newton = np.zeros([id,id+1])\n",
    "    for i in range(0,id):\n",
    "        Matriz_Newton[i,0] = xi[i]\n",
    "        Matriz_Newton[i,1] = yi[i]\n",
    "        \n",
    "    for i in range(2,id+1):\n",
    "        for j in range(0,id-i+1):\n",
    "            Matriz_Newton[j,i] = (Matriz_Newton[j+1,i-1]-Matriz_Newton[j,i-1])/(Matriz_Newton[j+i-1,0]-Matriz_Newton[j,0])\n",
    "    \n",
    "    Valor_Medio_Der_4 = Matriz_Newton[0,5]\n",
    "    Erro = (-1*(((b-a)/2)**5)/90)*Valor_Medio_Der_4\n",
    "    return(Matriz_Newton,Erro)"
   ]
  },
  {
   "cell_type": "code",
   "execution_count": 31,
   "id": "0949005e",
   "metadata": {},
   "outputs": [
    {
     "name": "stdout",
     "output_type": "stream",
     "text": [
      "[[ 0.          0.          0.94117647 -0.56470588 -0.15058824  0.41411765]\n",
      " [ 0.25        0.23529412  0.65882353 -0.67764706  0.26352941  0.        ]\n",
      " [ 0.5         0.4         0.32       -0.48        0.          0.        ]\n",
      " [ 0.75        0.48        0.08        0.          0.          0.        ]\n",
      " [ 1.          0.5         0.          0.          0.          0.        ]]\n",
      "-0.0001437908496732034\n"
     ]
    }
   ],
   "source": [
    "[Matriz,Erro] = calcula_erro_simpson1(0,1,f)\n",
    "print(Matriz)\n",
    "print(Erro)"
   ]
  },
  {
   "cell_type": "code",
   "execution_count": 32,
   "id": "b6125d4f",
   "metadata": {},
   "outputs": [],
   "source": [
    "def calcula_erro_simpson2(a,b,f):\n",
    "    h = (b-a)/4\n",
    "    a0 = a\n",
    "    xi = []\n",
    "    yi = []\n",
    "    id = 1\n",
    "    xi.append(a)\n",
    "    yi.append(f(a))\n",
    "    while id <=4:\n",
    "        a = a+h\n",
    "        xi.append(a)\n",
    "        yi.append(f(a))\n",
    "        id = id+1\n",
    "    xi = np.array(xi)\n",
    "    yi = np.array(yi)\n",
    "    a = a0\n",
    "    Matriz_Newton = np.zeros([id,id+1])\n",
    "    for i in range(0,id):\n",
    "        Matriz_Newton[i,0] = xi[i]\n",
    "        Matriz_Newton[i,1] = yi[i]\n",
    "        \n",
    "    for i in range(2,id+1):\n",
    "        for j in range(0,id-i+1):\n",
    "            Matriz_Newton[j,i] = (Matriz_Newton[j+1,i-1]-Matriz_Newton[j,i-1])/(Matriz_Newton[j+i-1,0]-Matriz_Newton[j,0])\n",
    "    \n",
    "    Valor_Medio_Der_4 = Matriz_Newton[0,5]\n",
    "    Erro = (-3*(((b-a)/3)**5)/80)*Valor_Medio_Der_4\n",
    "    return(Matriz_Newton,Erro)"
   ]
  },
  {
   "cell_type": "code",
   "execution_count": 33,
   "id": "0a77780c",
   "metadata": {},
   "outputs": [
    {
     "name": "stdout",
     "output_type": "stream",
     "text": [
      "[[ 0.          0.          0.94117647 -0.56470588 -0.15058824  0.41411765]\n",
      " [ 0.25        0.23529412  0.65882353 -0.67764706  0.26352941  0.        ]\n",
      " [ 0.5         0.4         0.32       -0.48        0.          0.        ]\n",
      " [ 0.75        0.48        0.08        0.          0.          0.        ]\n",
      " [ 1.          0.5         0.          0.          0.          0.        ]]\n",
      "-6.39070442992015e-05\n"
     ]
    }
   ],
   "source": [
    "[Matriz,Erro] = calcula_erro_simpson2(0,1,f)\n",
    "print(Matriz)\n",
    "print(Erro)"
   ]
  },
  {
   "cell_type": "code",
   "execution_count": 23,
   "id": "18d59fa7",
   "metadata": {},
   "outputs": [],
   "source": [
    "def trapezio_multipla(a,b,nint):\n",
    "    soma = 0\n",
    "    h = (b-a)/nint\n",
    "    for i in range(0,nint):\n",
    "        bi = a+h\n",
    "        soma = soma+trapezio_simples(a,bi,f)\n",
    "        a = bi\n",
    "    return soma"
   ]
  },
  {
   "cell_type": "code",
   "execution_count": 45,
   "id": "08d62dcd",
   "metadata": {},
   "outputs": [
    {
     "data": {
      "text/plain": [
       "[<matplotlib.lines.Line2D at 0x26c988408b0>]"
      ]
     },
     "execution_count": 45,
     "metadata": {},
     "output_type": "execute_result"
    },
    {
     "data": {
      "image/png": "[encoded data removed]",
      "text/plain": [
       "<Figure size 432x288 with 1 Axes>"
      ]
     },
     "metadata": {
      "needs_background": "light"
     },
     "output_type": "display_data"
    }
   ],
   "source": [
    "xx=np.linspace(2,16,8)\n",
    "yy=[]\n",
    "for xxi in xx:\n",
    "    yy.append(trapezio_multipla(0,1,int(xxi)))  \n",
    "plt.plot(xx, yy)\n"
   ]
  },
  {
   "cell_type": "code",
   "execution_count": 46,
   "id": "378883fe",
   "metadata": {},
   "outputs": [
    {
     "name": "stdout",
     "output_type": "stream",
     "text": [
      "[0.325, 0.3413235294117647, 0.34425065039819136, 0.3452689484372228, 0.3457392112718763, 0.3459943828911342, 0.34614814852786663, 0.346247910263477]\n"
     ]
    }
   ],
   "source": [
    "print(yy)"
   ]
  },
  {
   "cell_type": "code",
   "execution_count": 57,
   "id": "3ec0c57d",
   "metadata": {},
   "outputs": [],
   "source": [
    "def f(x):\n",
    "    return np.log(x)*math.sin(x)\n",
    "    #return 1-x-4*(x**3)+2*(x**5)\n",
    "    #return math.exp(math.sin(x))\n",
    "    #return (math.sin(x))**(0.5)"
   ]
  },
  {
   "cell_type": "code",
   "execution_count": 49,
   "id": "50e48ff2",
   "metadata": {},
   "outputs": [
    {
     "data": {
      "text/plain": [
       "[<matplotlib.lines.Line2D at 0x26c998e5cd0>]"
      ]
     },
     "execution_count": 49,
     "metadata": {},
     "output_type": "execute_result"
    },
    {
     "data": {
      "image/png": "[encoded data removed]",
      "text/plain": [
       "<Figure size 432x288 with 1 Axes>"
      ]
     },
     "metadata": {
      "needs_background": "light"
     },
     "output_type": "display_data"
    }
   ],
   "source": [
    "xx=np.linspace(0.00001,1,1000)\n",
    "yy=[]\n",
    "for xxi in xx:\n",
    "    yy.append(f(xxi))  \n",
    "plt.plot(xx, yy, label=\"Polinomio Interpolador\")\n"
   ]
  },
  {
   "cell_type": "code",
   "execution_count": 9,
   "id": "e536f214",
   "metadata": {},
   "outputs": [],
   "source": [
    "def quadratura_2pontos(a,b,f):\n",
    "    t0 = -0.57735\n",
    "    t1 = 0.57735\n",
    "    x0 = ((b-a)/2)*t0+((a+b)/2)\n",
    "    x1 = ((b-a)/2)*t1+((a+b)/2)\n",
    "    fx0 = f(x0)\n",
    "    fx1 = f(x1)\n",
    "    I = ((b-a)/2)*(fx0+fx1)\n",
    "    return I"
   ]
  },
  {
   "cell_type": "code",
   "execution_count": 51,
   "id": "96cd6b18",
   "metadata": {},
   "outputs": [
    {
     "name": "stdout",
     "output_type": "stream",
     "text": [
      "-0.24722615788770022\n"
     ]
    }
   ],
   "source": [
    "I = quadratura_2pontos(0,1,f)\n",
    "print(I)"
   ]
  },
  {
   "cell_type": "code",
   "execution_count": 53,
   "id": "4b8c5198",
   "metadata": {},
   "outputs": [
    {
     "name": "stdout",
     "output_type": "stream",
     "text": [
      "3.0917651595642996\n"
     ]
    }
   ],
   "source": [
    "vref = -0.2398117420\n",
    "erro_perc = np.abs((I-vref)/(vref))\n",
    "print(100*erro_perc)"
   ]
  },
  {
   "cell_type": "code",
   "execution_count": 10,
   "id": "e82e3daf",
   "metadata": {},
   "outputs": [],
   "source": [
    "def quadratura_3pontos(a,b,f):\n",
    "    t0 = -0.77459\n",
    "    t1 = 0\n",
    "    t2 = 0.77459\n",
    "    x0 = ((b-a)/2)*t0+((a+b)/2)\n",
    "\n",
    "    x1 = ((b-a)/2)*t1+((a+b)/2)\n",
    "   \n",
    "    x2 = ((b-a)/2)*t2+((a+b)/2)\n",
    "   \n",
    "    fx0 = f(x0)\n",
    "    fx1 = f(x1)\n",
    "    fx2 = f(x2)\n",
    "    A0 = 0.555555555555556\n",
    "    A1 = 0.888888888888889\n",
    "    A2 = 0.555555555555556\n",
    "    I = ((b-a)/2)*(A0*fx0+A1*fx1+A2*fx2)\n",
    "    return I"
   ]
  },
  {
   "cell_type": "code",
   "execution_count": 61,
   "id": "383da63d",
   "metadata": {},
   "outputs": [
    {
     "name": "stdout",
     "output_type": "stream",
     "text": [
      "0.112705\n",
      "0.5\n",
      "0.887295\n",
      "-0.24164691850242967\n"
     ]
    }
   ],
   "source": [
    "I = quadratura_3pontos(0,1,f)\n",
    "print(I)"
   ]
  },
  {
   "cell_type": "code",
   "execution_count": 62,
   "id": "9f1b53df",
   "metadata": {},
   "outputs": [
    {
     "name": "stdout",
     "output_type": "stream",
     "text": [
      "0.7652571500980445\n"
     ]
    }
   ],
   "source": [
    "erro_perc = np.abs((I-vref)/(vref))\n",
    "print(100*erro_perc)"
   ]
  },
  {
   "cell_type": "code",
   "execution_count": 43,
   "id": "282d12c8",
   "metadata": {},
   "outputs": [],
   "source": [
    "def f(x):\n",
    "    return np.exp(-1*x)*((math.sin(x))**2)\n",
    "    #return 1-x-4*(x**3)+2*(x**5)\n",
    "    #return math.exp(math.sin(x))\n",
    "    #return (math.sin(x))**(0.5)"
   ]
  },
  {
   "cell_type": "code",
   "execution_count": 44,
   "id": "9994c7d3",
   "metadata": {},
   "outputs": [],
   "source": [
    "def trapezio_multipla(a,b,nint,f):\n",
    "    soma = 0\n",
    "    h = (b-a)/nint\n",
    "    for i in range(0,nint):\n",
    "        bi = a+h\n",
    "        soma = soma+trapezio_simples(a,bi,f)\n",
    "        a = bi\n",
    "    return soma"
   ]
  },
  {
   "cell_type": "code",
   "execution_count": 45,
   "id": "731b2df4",
   "metadata": {},
   "outputs": [
    {
     "data": {
      "text/plain": [
       "[<matplotlib.lines.Line2D at 0x2036323d700>]"
      ]
     },
     "execution_count": 45,
     "metadata": {},
     "output_type": "execute_result"
    },
    {
     "data": {
      "image/png": "[encoded data removed]",
      "text/plain": [
       "<Figure size 432x288 with 1 Axes>"
      ]
     },
     "metadata": {
      "needs_background": "light"
     },
     "output_type": "display_data"
    }
   ],
   "source": [
    "xx=np.linspace(0,10,1000)\n",
    "yy=[]\n",
    "for xxi in xx:\n",
    "    yy.append(f(xxi))  \n",
    "plt.plot(xx, yy, label=\"Polinomio Interpolador\")"
   ]
  },
  {
   "cell_type": "code",
   "execution_count": 48,
   "id": "6c4340f6",
   "metadata": {},
   "outputs": [
    {
     "name": "stdout",
     "output_type": "stream",
     "text": [
      "0.7617270177280021\n"
     ]
    }
   ],
   "source": [
    "I1 = quadratura_3pontos(0,10,f)\n",
    "print(I1)"
   ]
  },
  {
   "cell_type": "code",
   "execution_count": 60,
   "id": "c9f14bfd",
   "metadata": {},
   "outputs": [
    {
     "data": {
      "text/plain": [
       "[<matplotlib.lines.Line2D at 0x2036338a310>]"
      ]
     },
     "execution_count": 60,
     "metadata": {},
     "output_type": "execute_result"
    },
    {
     "data": {
      "image/png": "[encoded data removed]",
      "text/plain": [
       "<Figure size 432x288 with 1 Axes>"
      ]
     },
     "metadata": {
      "needs_background": "light"
     },
     "output_type": "display_data"
    }
   ],
   "source": [
    "xx=np.linspace(2,16,8)\n",
    "yy=[]\n",
    "for xxi in xx:\n",
    "    yy.append(trapezio_multipla(0,4,int(xxi),f))  \n",
    "plt.plot(xx, yy)"
   ]
  },
  {
   "cell_type": "code",
   "execution_count": 61,
   "id": "cd50c8ec",
   "metadata": {},
   "outputs": [
    {
     "data": {
      "text/plain": [
       "[<matplotlib.lines.Line2D at 0x203633ed850>]"
      ]
     },
     "execution_count": 61,
     "metadata": {},
     "output_type": "execute_result"
    },
    {
     "data": {
      "image/png": "[encoded data removed]",
      "text/plain": [
       "<Figure size 432x288 with 1 Axes>"
      ]
     },
     "metadata": {
      "needs_background": "light"
     },
     "output_type": "display_data"
    }
   ],
   "source": [
    "xx=np.linspace(2,20,10)\n",
    "yy=[]\n",
    "for xxi in xx:\n",
    "    yy.append(trapezio_multipla(0,4,int(xxi),f))  \n",
    "plt.plot(xx, yy)"
   ]
  },
  {
   "cell_type": "code",
   "execution_count": 62,
   "id": "282f76ae",
   "metadata": {},
   "outputs": [
    {
     "name": "stdout",
     "output_type": "stream",
     "text": [
      "[0.23428661028513043, 0.3786204608962048, 0.38553287646110657, 0.3865802771121689, 0.386837640289426, 0.38691860622628316, 0.386947667812657, 0.38695863596475644, 0.3869625827156908, 0.3869636286404887]\n"
     ]
    }
   ],
   "source": [
    "print(yy)"
   ]
  },
  {
   "cell_type": "code",
   "execution_count": 63,
   "id": "a42bc01e",
   "metadata": {},
   "outputs": [
    {
     "name": "stdout",
     "output_type": "stream",
     "text": [
      "0.3869636286404887\n"
     ]
    }
   ],
   "source": [
    "I1 = yy[-1]\n",
    "print(I1)"
   ]
  },
  {
   "cell_type": "code",
   "execution_count": 54,
   "id": "27f81a90",
   "metadata": {},
   "outputs": [],
   "source": [
    "def g(x):\n",
    "    return (1/(x**2))*f(1/x)"
   ]
  },
  {
   "cell_type": "code",
   "execution_count": 31,
   "id": "b17491b6",
   "metadata": {},
   "outputs": [],
   "source": [
    "def integral_impropria1(a,g):\n",
    "    ini = 0\n",
    "    fim = 1/a\n",
    "    #I = quadratura_3pontos(ini,fim,g)\n",
    "    I = trapezio_multipla(ini,fim,50,g)\n",
    "    return I"
   ]
  },
  {
   "cell_type": "code",
   "execution_count": 64,
   "id": "1d3d148a",
   "metadata": {},
   "outputs": [
    {
     "name": "stdout",
     "output_type": "stream",
     "text": [
      "0.01724681862967498\n"
     ]
    }
   ],
   "source": [
    "I2 = integral_impropria1(4,g)\n",
    "print(I2)"
   ]
  },
  {
   "cell_type": "code",
   "execution_count": 65,
   "id": "09d6fb42",
   "metadata": {},
   "outputs": [
    {
     "name": "stdout",
     "output_type": "stream",
     "text": [
      "0.4042104472701637\n"
     ]
    }
   ],
   "source": [
    "I = I1+I2\n",
    "print(I)"
   ]
  },
  {
   "cell_type": "code",
   "execution_count": null,
   "id": "2ae6aee4",
   "metadata": {},
   "outputs": [],
   "source": []
  }
 ],
 "metadata": {
  "kernelspec": {
   "display_name": "Python 3 (ipykernel)",
   "language": "python",
   "name": "python3"
  },
  "language_info": {
   "codemirror_mode": {
    "name": "ipython",
    "version": 3
   },
   "file_extension": ".py",
   "mimetype": "text/x-python",
   "name": "python",
   "nbconvert_exporter": "python",
   "pygments_lexer": "ipython3",
   "version": "3.9.12"
  }
 },
 "nbformat": 4,
 "nbformat_minor": 5
}
